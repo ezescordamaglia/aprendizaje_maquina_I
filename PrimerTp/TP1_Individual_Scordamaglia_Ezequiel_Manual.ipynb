{
 "cells": [
  {
   "attachments": {},
   "cell_type": "markdown",
   "metadata": {},
   "source": [
    "# TP 1 Individual"
   ]
  },
  {
   "attachments": {},
   "cell_type": "markdown",
   "metadata": {},
   "source": [
    "## Alumno: Scordamaglia Ezequiel"
   ]
  },
  {
   "cell_type": "code",
   "execution_count": 3,
   "metadata": {},
   "outputs": [],
   "source": [
    "import numpy as np\n",
    "import pandas as pd\n",
    "import matplotlib.pyplot as plt\n",
    "import seaborn as sns\n",
    "%matplotlib inline\n",
    "\n",
    "from sklearn.metrics import mean_squared_error\n",
    "from sklearn.datasets import make_regression\n",
    "from sklearn.model_selection import train_test_split\n",
    "from sklearn.preprocessing import StandardScaler\n",
    "from sklearn.decomposition import PCA\n",
    "from sklearn.cluster import KMeans\n",
    "from sklearn.linear_model import LinearRegression\n",
    "from sklearn.linear_model import ElasticNet, ElasticNetCV, LogisticRegression, LogisticRegressionCV, SGDClassifier, SGDRegressor\n",
    "from sklearn import metrics\n",
    "from sklearn.metrics import accuracy_score, precision_score, recall_score, classification_report, confusion_matrix, f1_score\n",
    "from sklearn.metrics import classification_report\n",
    "from sklearn.metrics import precision_recall_curve\n",
    "from sklearn.metrics import roc_curve\n",
    "from sklearn.impute import SimpleImputer\n",
    "from sklearn.pipeline import Pipeline\n",
    "from sklearn.model_selection import cross_val_score\n",
    "from sklearn.compose import ColumnTransformer\n",
    "from sklearn.preprocessing import OneHotEncoder\n",
    "from sklearn.base import BaseEstimator, TransformerMixin\n",
    "from sklearn.ensemble import RandomForestClassifier\n",
    "from sklearn.metrics import classification_report, accuracy_score\n",
    "from sklearn.metrics import make_scorer\n",
    "from sklearn.model_selection import StratifiedKFold\n",
    "from sklearn.model_selection import GridSearchCV, RandomizedSearchCV\n",
    "from imblearn.over_sampling import SMOTE\n",
    "from imblearn.over_sampling import KMeansSMOTE\n",
    "from imblearn.under_sampling import RandomUnderSampler\n",
    "from imblearn.over_sampling import RandomOverSampler\n",
    "from imblearn.under_sampling import CondensedNearestNeighbour\n",
    "from imblearn.under_sampling import TomekLinks\n",
    "from imblearn.under_sampling import NearMiss\n",
    "from imblearn.over_sampling import ADASYN\n",
    "from imblearn.over_sampling import BorderlineSMOTE\n",
    "from imblearn.over_sampling import SVMSMOTE\n",
    "\n"
   ]
  },
  {
   "attachments": {},
   "cell_type": "markdown",
   "metadata": {},
   "source": [
    "# ANALISIS EXPLORATORIO"
   ]
  },
  {
   "cell_type": "code",
   "execution_count": 4,
   "metadata": {},
   "outputs": [
    {
     "data": {
      "text/html": [
       "<div>\n",
       "<style scoped>\n",
       "    .dataframe tbody tr th:only-of-type {\n",
       "        vertical-align: middle;\n",
       "    }\n",
       "\n",
       "    .dataframe tbody tr th {\n",
       "        vertical-align: top;\n",
       "    }\n",
       "\n",
       "    .dataframe thead th {\n",
       "        text-align: right;\n",
       "    }\n",
       "</style>\n",
       "<table border=\"1\" class=\"dataframe\">\n",
       "  <thead>\n",
       "    <tr style=\"text-align: right;\">\n",
       "      <th></th>\n",
       "      <th>step</th>\n",
       "      <th>type</th>\n",
       "      <th>amount</th>\n",
       "      <th>nameOrig</th>\n",
       "      <th>oldbalanceOrg</th>\n",
       "      <th>newbalanceOrig</th>\n",
       "      <th>nameDest</th>\n",
       "      <th>oldbalanceDest</th>\n",
       "      <th>newbalanceDest</th>\n",
       "      <th>isFraud</th>\n",
       "      <th>isFlaggedFraud</th>\n",
       "    </tr>\n",
       "  </thead>\n",
       "  <tbody>\n",
       "    <tr>\n",
       "      <th>0</th>\n",
       "      <td>1</td>\n",
       "      <td>PAYMENT</td>\n",
       "      <td>9839.64</td>\n",
       "      <td>C1231006815</td>\n",
       "      <td>170136.0</td>\n",
       "      <td>160296.36</td>\n",
       "      <td>M1979787155</td>\n",
       "      <td>0.0</td>\n",
       "      <td>0.0</td>\n",
       "      <td>0</td>\n",
       "      <td>0</td>\n",
       "    </tr>\n",
       "    <tr>\n",
       "      <th>1</th>\n",
       "      <td>1</td>\n",
       "      <td>PAYMENT</td>\n",
       "      <td>1864.28</td>\n",
       "      <td>C1666544295</td>\n",
       "      <td>21249.0</td>\n",
       "      <td>19384.72</td>\n",
       "      <td>M2044282225</td>\n",
       "      <td>0.0</td>\n",
       "      <td>0.0</td>\n",
       "      <td>0</td>\n",
       "      <td>0</td>\n",
       "    </tr>\n",
       "    <tr>\n",
       "      <th>2</th>\n",
       "      <td>1</td>\n",
       "      <td>TRANSFER</td>\n",
       "      <td>181.00</td>\n",
       "      <td>C1305486145</td>\n",
       "      <td>181.0</td>\n",
       "      <td>0.00</td>\n",
       "      <td>C553264065</td>\n",
       "      <td>0.0</td>\n",
       "      <td>0.0</td>\n",
       "      <td>1</td>\n",
       "      <td>0</td>\n",
       "    </tr>\n",
       "    <tr>\n",
       "      <th>3</th>\n",
       "      <td>1</td>\n",
       "      <td>CASH_OUT</td>\n",
       "      <td>181.00</td>\n",
       "      <td>C840083671</td>\n",
       "      <td>181.0</td>\n",
       "      <td>0.00</td>\n",
       "      <td>C38997010</td>\n",
       "      <td>21182.0</td>\n",
       "      <td>0.0</td>\n",
       "      <td>1</td>\n",
       "      <td>0</td>\n",
       "    </tr>\n",
       "    <tr>\n",
       "      <th>4</th>\n",
       "      <td>1</td>\n",
       "      <td>PAYMENT</td>\n",
       "      <td>11668.14</td>\n",
       "      <td>C2048537720</td>\n",
       "      <td>41554.0</td>\n",
       "      <td>29885.86</td>\n",
       "      <td>M1230701703</td>\n",
       "      <td>0.0</td>\n",
       "      <td>0.0</td>\n",
       "      <td>0</td>\n",
       "      <td>0</td>\n",
       "    </tr>\n",
       "  </tbody>\n",
       "</table>\n",
       "</div>"
      ],
      "text/plain": [
       "   step      type    amount     nameOrig  oldbalanceOrg  newbalanceOrig  \\\n",
       "0     1   PAYMENT   9839.64  C1231006815       170136.0       160296.36   \n",
       "1     1   PAYMENT   1864.28  C1666544295        21249.0        19384.72   \n",
       "2     1  TRANSFER    181.00  C1305486145          181.0            0.00   \n",
       "3     1  CASH_OUT    181.00   C840083671          181.0            0.00   \n",
       "4     1   PAYMENT  11668.14  C2048537720        41554.0        29885.86   \n",
       "\n",
       "      nameDest  oldbalanceDest  newbalanceDest  isFraud  isFlaggedFraud  \n",
       "0  M1979787155             0.0             0.0        0               0  \n",
       "1  M2044282225             0.0             0.0        0               0  \n",
       "2   C553264065             0.0             0.0        1               0  \n",
       "3    C38997010         21182.0             0.0        1               0  \n",
       "4  M1230701703             0.0             0.0        0               0  "
      ]
     },
     "execution_count": 4,
     "metadata": {},
     "output_type": "execute_result"
    }
   ],
   "source": [
    "df = pd.read_csv('data\\PS_20174392719_1491204439457_log.csv')\n",
    "df.head()"
   ]
  },
  {
   "cell_type": "code",
   "execution_count": 5,
   "metadata": {},
   "outputs": [
    {
     "data": {
      "text/plain": [
       "Index(['step', 'type', 'amount', 'nameOrig', 'oldbalanceOrg', 'newbalanceOrig',\n",
       "       'nameDest', 'oldbalanceDest', 'newbalanceDest', 'isFraud',\n",
       "       'isFlaggedFraud'],\n",
       "      dtype='object')"
      ]
     },
     "execution_count": 5,
     "metadata": {},
     "output_type": "execute_result"
    }
   ],
   "source": [
    "df.columns"
   ]
  },
  {
   "cell_type": "code",
   "execution_count": 6,
   "metadata": {},
   "outputs": [
    {
     "data": {
      "text/plain": [
       "step                int64\n",
       "type               object\n",
       "amount            float64\n",
       "nameOrig           object\n",
       "oldbalanceOrg     float64\n",
       "newbalanceOrig    float64\n",
       "nameDest           object\n",
       "oldbalanceDest    float64\n",
       "newbalanceDest    float64\n",
       "isFraud             int64\n",
       "isFlaggedFraud      int64\n",
       "dtype: object"
      ]
     },
     "execution_count": 6,
     "metadata": {},
     "output_type": "execute_result"
    }
   ],
   "source": [
    "df.dtypes"
   ]
  },
  {
   "cell_type": "code",
   "execution_count": 7,
   "metadata": {},
   "outputs": [
    {
     "data": {
      "text/html": [
       "<div>\n",
       "<style scoped>\n",
       "    .dataframe tbody tr th:only-of-type {\n",
       "        vertical-align: middle;\n",
       "    }\n",
       "\n",
       "    .dataframe tbody tr th {\n",
       "        vertical-align: top;\n",
       "    }\n",
       "\n",
       "    .dataframe thead th {\n",
       "        text-align: right;\n",
       "    }\n",
       "</style>\n",
       "<table border=\"1\" class=\"dataframe\">\n",
       "  <thead>\n",
       "    <tr style=\"text-align: right;\">\n",
       "      <th></th>\n",
       "      <th>step</th>\n",
       "      <th>type</th>\n",
       "      <th>amount</th>\n",
       "      <th>nameOrig</th>\n",
       "      <th>oldbalanceOrg</th>\n",
       "      <th>newbalanceOrig</th>\n",
       "      <th>nameDest</th>\n",
       "      <th>oldbalanceDest</th>\n",
       "      <th>newbalanceDest</th>\n",
       "      <th>isFraud</th>\n",
       "    </tr>\n",
       "  </thead>\n",
       "  <tbody>\n",
       "    <tr>\n",
       "      <th>0</th>\n",
       "      <td>1</td>\n",
       "      <td>PAYMENT</td>\n",
       "      <td>9839.64</td>\n",
       "      <td>C1231006815</td>\n",
       "      <td>170136.0</td>\n",
       "      <td>160296.36</td>\n",
       "      <td>M1979787155</td>\n",
       "      <td>0.0</td>\n",
       "      <td>0.0</td>\n",
       "      <td>0</td>\n",
       "    </tr>\n",
       "    <tr>\n",
       "      <th>1</th>\n",
       "      <td>1</td>\n",
       "      <td>PAYMENT</td>\n",
       "      <td>1864.28</td>\n",
       "      <td>C1666544295</td>\n",
       "      <td>21249.0</td>\n",
       "      <td>19384.72</td>\n",
       "      <td>M2044282225</td>\n",
       "      <td>0.0</td>\n",
       "      <td>0.0</td>\n",
       "      <td>0</td>\n",
       "    </tr>\n",
       "    <tr>\n",
       "      <th>2</th>\n",
       "      <td>1</td>\n",
       "      <td>TRANSFER</td>\n",
       "      <td>181.00</td>\n",
       "      <td>C1305486145</td>\n",
       "      <td>181.0</td>\n",
       "      <td>0.00</td>\n",
       "      <td>C553264065</td>\n",
       "      <td>0.0</td>\n",
       "      <td>0.0</td>\n",
       "      <td>1</td>\n",
       "    </tr>\n",
       "    <tr>\n",
       "      <th>3</th>\n",
       "      <td>1</td>\n",
       "      <td>CASH_OUT</td>\n",
       "      <td>181.00</td>\n",
       "      <td>C840083671</td>\n",
       "      <td>181.0</td>\n",
       "      <td>0.00</td>\n",
       "      <td>C38997010</td>\n",
       "      <td>21182.0</td>\n",
       "      <td>0.0</td>\n",
       "      <td>1</td>\n",
       "    </tr>\n",
       "    <tr>\n",
       "      <th>4</th>\n",
       "      <td>1</td>\n",
       "      <td>PAYMENT</td>\n",
       "      <td>11668.14</td>\n",
       "      <td>C2048537720</td>\n",
       "      <td>41554.0</td>\n",
       "      <td>29885.86</td>\n",
       "      <td>M1230701703</td>\n",
       "      <td>0.0</td>\n",
       "      <td>0.0</td>\n",
       "      <td>0</td>\n",
       "    </tr>\n",
       "  </tbody>\n",
       "</table>\n",
       "</div>"
      ],
      "text/plain": [
       "   step      type    amount     nameOrig  oldbalanceOrg  newbalanceOrig  \\\n",
       "0     1   PAYMENT   9839.64  C1231006815       170136.0       160296.36   \n",
       "1     1   PAYMENT   1864.28  C1666544295        21249.0        19384.72   \n",
       "2     1  TRANSFER    181.00  C1305486145          181.0            0.00   \n",
       "3     1  CASH_OUT    181.00   C840083671          181.0            0.00   \n",
       "4     1   PAYMENT  11668.14  C2048537720        41554.0        29885.86   \n",
       "\n",
       "      nameDest  oldbalanceDest  newbalanceDest  isFraud  \n",
       "0  M1979787155             0.0             0.0        0  \n",
       "1  M2044282225             0.0             0.0        0  \n",
       "2   C553264065             0.0             0.0        1  \n",
       "3    C38997010         21182.0             0.0        1  \n",
       "4  M1230701703             0.0             0.0        0  "
      ]
     },
     "execution_count": 7,
     "metadata": {},
     "output_type": "execute_result"
    }
   ],
   "source": [
    "# Elimino la columna isFlaggedFraud, ya que mi targuet es isFraud\n",
    "df.drop(columns=['isFlaggedFraud'], axis=1, inplace=True)\n",
    "df.head()"
   ]
  },
  {
   "cell_type": "code",
   "execution_count": 8,
   "metadata": {},
   "outputs": [
    {
     "data": {
      "text/plain": [
       "step              0\n",
       "type              0\n",
       "amount            0\n",
       "nameOrig          0\n",
       "oldbalanceOrg     0\n",
       "newbalanceOrig    0\n",
       "nameDest          0\n",
       "oldbalanceDest    0\n",
       "newbalanceDest    0\n",
       "isFraud           0\n",
       "dtype: int64"
      ]
     },
     "execution_count": 8,
     "metadata": {},
     "output_type": "execute_result"
    }
   ],
   "source": [
    "#REVISO VALORES FALTANTES\n",
    "df.isnull().sum()"
   ]
  },
  {
   "attachments": {},
   "cell_type": "markdown",
   "metadata": {},
   "source": [
    "### No hay valores faltantes en el dataset"
   ]
  },
  {
   "cell_type": "code",
   "execution_count": 9,
   "metadata": {},
   "outputs": [
    {
     "data": {
      "image/png": "[encoded data removed]",
      "text/plain": [
       "<Figure size 1800x1800 with 2 Axes>"
      ]
     },
     "metadata": {},
     "output_type": "display_data"
    }
   ],
   "source": [
    "#MATRIZ DE CORRELACIÓN ENTRE VARIABLES NUMÉRICAS\n",
    "numerical_columns = df.select_dtypes(include=['float64', 'int64'])\n",
    "# crear la matriz de correlación\n",
    "corr_matrix = numerical_columns.corr()\n",
    "\n",
    "fig, ax = plt.subplots(nrows=1, ncols=1, figsize=(18, 18))\n",
    "sns.heatmap(corr_matrix,square = True, ax = ax, annot=True, cmap = 'coolwarm')\n",
    "ax.tick_params(labelsize = 10)"
   ]
  },
  {
   "attachments": {},
   "cell_type": "markdown",
   "metadata": {},
   "source": [
    "#### Solo hay alta correlacion entre los saldos de las cuentas antes y despues de la transaccion"
   ]
  },
  {
   "attachments": {},
   "cell_type": "markdown",
   "metadata": {},
   "source": [
    "# PREPROCESAMIENTO DE LOS DATOS"
   ]
  },
  {
   "attachments": {},
   "cell_type": "markdown",
   "metadata": {},
   "source": [
    "## SEPARACIÓN EN TRAIN Y TEST"
   ]
  },
  {
   "cell_type": "code",
   "execution_count": 10,
   "metadata": {},
   "outputs": [
    {
     "name": "stdout",
     "output_type": "stream",
     "text": [
      "0    6354407\n",
      "1       8213\n",
      "Name: isFraud, dtype: int64\n",
      "0    99.870918\n",
      "1     0.129082\n",
      "Name: isFraud, dtype: float64\n"
     ]
    }
   ],
   "source": [
    "#Reviso el porcentaje de cada clase en la variable isFraud\n",
    "counts = df['isFraud'].value_counts()\n",
    "print(counts)\n",
    "percentages = counts / counts.sum() * 100\n",
    "print(percentages)"
   ]
  },
  {
   "cell_type": "code",
   "execution_count": 11,
   "metadata": {},
   "outputs": [],
   "source": [
    "# DIVIDO EL DATASET EN TRAIN Y TEST\n",
    "target = df['isFraud']\n",
    "df = df.drop('isFraud', axis = 1)\n",
    "X_train, X_test, Y_train, Y_test = train_test_split(df, target, test_size = 0.25, \n",
    "                                                    random_state = 23, stratify=target)"
   ]
  },
  {
   "cell_type": "code",
   "execution_count": 12,
   "metadata": {},
   "outputs": [
    {
     "name": "stdout",
     "output_type": "stream",
     "text": [
      "Y_train\n",
      "0    4765805\n",
      "1       6160\n",
      "Name: isFraud, dtype: int64\n",
      "0    99.870913\n",
      "1     0.129087\n",
      "Name: isFraud, dtype: float64\n"
     ]
    }
   ],
   "source": [
    "#Reviso el porcentaje de cada clase en la variable isFraud en cada conjunto\n",
    "print(\"Y_train\")\n",
    "counts = Y_train.value_counts()\n",
    "print(counts)\n",
    "percentages = counts / counts.sum() * 100\n",
    "print(percentages)\n"
   ]
  },
  {
   "cell_type": "code",
   "execution_count": 13,
   "metadata": {},
   "outputs": [
    {
     "name": "stdout",
     "output_type": "stream",
     "text": [
      "Y_test\n",
      "0    1588602\n",
      "1       2053\n",
      "Name: isFraud, dtype: int64\n",
      "0    99.870934\n",
      "1     0.129066\n",
      "Name: isFraud, dtype: float64\n"
     ]
    }
   ],
   "source": [
    "print(\"Y_test\");\n",
    "counts = Y_test.value_counts()\n",
    "print(counts)\n",
    "percentages = counts / counts.sum() * 100\n",
    "print(percentages)"
   ]
  },
  {
   "attachments": {},
   "cell_type": "markdown",
   "metadata": {},
   "source": [
    "#### No se pierde la proporcion de valores de cada clase"
   ]
  },
  {
   "cell_type": "code",
   "execution_count": 14,
   "metadata": {},
   "outputs": [
    {
     "name": "stdout",
     "output_type": "stream",
     "text": [
      "(4771965, 9)\n",
      "(1590655, 9)\n",
      "(4771965,)\n",
      "(1590655,)\n"
     ]
    }
   ],
   "source": [
    "print(X_train.shape)\n",
    "print(X_test.shape)\n",
    "print(Y_train.shape)\n",
    "print(Y_test.shape)"
   ]
  },
  {
   "cell_type": "code",
   "execution_count": 15,
   "metadata": {},
   "outputs": [
    {
     "data": {
      "text/html": [
       "<div>\n",
       "<style scoped>\n",
       "    .dataframe tbody tr th:only-of-type {\n",
       "        vertical-align: middle;\n",
       "    }\n",
       "\n",
       "    .dataframe tbody tr th {\n",
       "        vertical-align: top;\n",
       "    }\n",
       "\n",
       "    .dataframe thead th {\n",
       "        text-align: right;\n",
       "    }\n",
       "</style>\n",
       "<table border=\"1\" class=\"dataframe\">\n",
       "  <thead>\n",
       "    <tr style=\"text-align: right;\">\n",
       "      <th></th>\n",
       "      <th>step</th>\n",
       "      <th>type</th>\n",
       "      <th>amount</th>\n",
       "      <th>nameOrig</th>\n",
       "      <th>oldbalanceOrg</th>\n",
       "      <th>newbalanceOrig</th>\n",
       "      <th>nameDest</th>\n",
       "      <th>oldbalanceDest</th>\n",
       "      <th>newbalanceDest</th>\n",
       "    </tr>\n",
       "  </thead>\n",
       "  <tbody>\n",
       "    <tr>\n",
       "      <th>1785191</th>\n",
       "      <td>162</td>\n",
       "      <td>PAYMENT</td>\n",
       "      <td>10594.29</td>\n",
       "      <td>C1167121278</td>\n",
       "      <td>21441.0</td>\n",
       "      <td>10846.71</td>\n",
       "      <td>M781844579</td>\n",
       "      <td>0.00</td>\n",
       "      <td>0.00</td>\n",
       "    </tr>\n",
       "    <tr>\n",
       "      <th>4435871</th>\n",
       "      <td>323</td>\n",
       "      <td>CASH_IN</td>\n",
       "      <td>15336.57</td>\n",
       "      <td>C989181223</td>\n",
       "      <td>32625.0</td>\n",
       "      <td>47961.57</td>\n",
       "      <td>C379566628</td>\n",
       "      <td>404935.06</td>\n",
       "      <td>389598.49</td>\n",
       "    </tr>\n",
       "    <tr>\n",
       "      <th>2783977</th>\n",
       "      <td>214</td>\n",
       "      <td>PAYMENT</td>\n",
       "      <td>1989.23</td>\n",
       "      <td>C2114146813</td>\n",
       "      <td>304313.0</td>\n",
       "      <td>302323.77</td>\n",
       "      <td>M835293507</td>\n",
       "      <td>0.00</td>\n",
       "      <td>0.00</td>\n",
       "    </tr>\n",
       "    <tr>\n",
       "      <th>473884</th>\n",
       "      <td>19</td>\n",
       "      <td>CASH_OUT</td>\n",
       "      <td>197391.78</td>\n",
       "      <td>C727751316</td>\n",
       "      <td>0.0</td>\n",
       "      <td>0.00</td>\n",
       "      <td>C474198775</td>\n",
       "      <td>392053.74</td>\n",
       "      <td>727668.62</td>\n",
       "    </tr>\n",
       "    <tr>\n",
       "      <th>203854</th>\n",
       "      <td>13</td>\n",
       "      <td>CASH_OUT</td>\n",
       "      <td>398538.19</td>\n",
       "      <td>C233833771</td>\n",
       "      <td>29287.0</td>\n",
       "      <td>0.00</td>\n",
       "      <td>C1937196092</td>\n",
       "      <td>1890494.51</td>\n",
       "      <td>2289032.70</td>\n",
       "    </tr>\n",
       "  </tbody>\n",
       "</table>\n",
       "</div>"
      ],
      "text/plain": [
       "         step      type     amount     nameOrig  oldbalanceOrg  \\\n",
       "1785191   162   PAYMENT   10594.29  C1167121278        21441.0   \n",
       "4435871   323   CASH_IN   15336.57   C989181223        32625.0   \n",
       "2783977   214   PAYMENT    1989.23  C2114146813       304313.0   \n",
       "473884     19  CASH_OUT  197391.78   C727751316            0.0   \n",
       "203854     13  CASH_OUT  398538.19   C233833771        29287.0   \n",
       "\n",
       "         newbalanceOrig     nameDest  oldbalanceDest  newbalanceDest  \n",
       "1785191        10846.71   M781844579            0.00            0.00  \n",
       "4435871        47961.57   C379566628       404935.06       389598.49  \n",
       "2783977       302323.77   M835293507            0.00            0.00  \n",
       "473884             0.00   C474198775       392053.74       727668.62  \n",
       "203854             0.00  C1937196092      1890494.51      2289032.70  "
      ]
     },
     "execution_count": 15,
     "metadata": {},
     "output_type": "execute_result"
    }
   ],
   "source": [
    "X_train.head()"
   ]
  },
  {
   "attachments": {},
   "cell_type": "markdown",
   "metadata": {},
   "source": [
    "## ENCODING"
   ]
  },
  {
   "cell_type": "code",
   "execution_count": 16,
   "metadata": {},
   "outputs": [
    {
     "data": {
      "text/html": [
       "<div>\n",
       "<style scoped>\n",
       "    .dataframe tbody tr th:only-of-type {\n",
       "        vertical-align: middle;\n",
       "    }\n",
       "\n",
       "    .dataframe tbody tr th {\n",
       "        vertical-align: top;\n",
       "    }\n",
       "\n",
       "    .dataframe thead th {\n",
       "        text-align: right;\n",
       "    }\n",
       "</style>\n",
       "<table border=\"1\" class=\"dataframe\">\n",
       "  <thead>\n",
       "    <tr style=\"text-align: right;\">\n",
       "      <th></th>\n",
       "      <th>type</th>\n",
       "      <th>nameOrig</th>\n",
       "      <th>nameDest</th>\n",
       "    </tr>\n",
       "  </thead>\n",
       "  <tbody>\n",
       "    <tr>\n",
       "      <th>count</th>\n",
       "      <td>4771965</td>\n",
       "      <td>4771965</td>\n",
       "      <td>4771965</td>\n",
       "    </tr>\n",
       "    <tr>\n",
       "      <th>unique</th>\n",
       "      <td>5</td>\n",
       "      <td>4766742</td>\n",
       "      <td>2151411</td>\n",
       "    </tr>\n",
       "    <tr>\n",
       "      <th>top</th>\n",
       "      <td>CASH_OUT</td>\n",
       "      <td>C1976208114</td>\n",
       "      <td>C248609774</td>\n",
       "    </tr>\n",
       "    <tr>\n",
       "      <th>freq</th>\n",
       "      <td>1677674</td>\n",
       "      <td>3</td>\n",
       "      <td>85</td>\n",
       "    </tr>\n",
       "  </tbody>\n",
       "</table>\n",
       "</div>"
      ],
      "text/plain": [
       "            type     nameOrig    nameDest\n",
       "count    4771965      4771965     4771965\n",
       "unique         5      4766742     2151411\n",
       "top     CASH_OUT  C1976208114  C248609774\n",
       "freq     1677674            3          85"
      ]
     },
     "execution_count": 16,
     "metadata": {},
     "output_type": "execute_result"
    }
   ],
   "source": [
    "X_train.describe(include='O')"
   ]
  },
  {
   "attachments": {},
   "cell_type": "markdown",
   "metadata": {},
   "source": [
    "### Hay tres columnas de datos categóricos"
   ]
  },
  {
   "attachments": {},
   "cell_type": "markdown",
   "metadata": {},
   "source": [
    "### TYPE"
   ]
  },
  {
   "cell_type": "code",
   "execution_count": 17,
   "metadata": {},
   "outputs": [
    {
     "data": {
      "text/plain": [
       "array(['PAYMENT', 'CASH_IN', 'CASH_OUT', 'TRANSFER', 'DEBIT'],\n",
       "      dtype=object)"
      ]
     },
     "execution_count": 17,
     "metadata": {},
     "output_type": "execute_result"
    }
   ],
   "source": [
    "X_train.type.unique()"
   ]
  },
  {
   "cell_type": "code",
   "execution_count": 18,
   "metadata": {},
   "outputs": [
    {
     "data": {
      "text/html": [
       "<div>\n",
       "<style scoped>\n",
       "    .dataframe tbody tr th:only-of-type {\n",
       "        vertical-align: middle;\n",
       "    }\n",
       "\n",
       "    .dataframe tbody tr th {\n",
       "        vertical-align: top;\n",
       "    }\n",
       "\n",
       "    .dataframe thead th {\n",
       "        text-align: right;\n",
       "    }\n",
       "</style>\n",
       "<table border=\"1\" class=\"dataframe\">\n",
       "  <thead>\n",
       "    <tr style=\"text-align: right;\">\n",
       "      <th></th>\n",
       "      <th>step</th>\n",
       "      <th>amount</th>\n",
       "      <th>nameOrig</th>\n",
       "      <th>oldbalanceOrg</th>\n",
       "      <th>newbalanceOrig</th>\n",
       "      <th>nameDest</th>\n",
       "      <th>oldbalanceDest</th>\n",
       "      <th>newbalanceDest</th>\n",
       "      <th>type_CASH_IN</th>\n",
       "      <th>type_CASH_OUT</th>\n",
       "      <th>type_DEBIT</th>\n",
       "      <th>type_PAYMENT</th>\n",
       "      <th>type_TRANSFER</th>\n",
       "    </tr>\n",
       "  </thead>\n",
       "  <tbody>\n",
       "    <tr>\n",
       "      <th>1785191</th>\n",
       "      <td>162</td>\n",
       "      <td>10594.29</td>\n",
       "      <td>C1167121278</td>\n",
       "      <td>21441.0</td>\n",
       "      <td>10846.71</td>\n",
       "      <td>M781844579</td>\n",
       "      <td>0.00</td>\n",
       "      <td>0.00</td>\n",
       "      <td>False</td>\n",
       "      <td>False</td>\n",
       "      <td>False</td>\n",
       "      <td>True</td>\n",
       "      <td>False</td>\n",
       "    </tr>\n",
       "    <tr>\n",
       "      <th>4435871</th>\n",
       "      <td>323</td>\n",
       "      <td>15336.57</td>\n",
       "      <td>C989181223</td>\n",
       "      <td>32625.0</td>\n",
       "      <td>47961.57</td>\n",
       "      <td>C379566628</td>\n",
       "      <td>404935.06</td>\n",
       "      <td>389598.49</td>\n",
       "      <td>True</td>\n",
       "      <td>False</td>\n",
       "      <td>False</td>\n",
       "      <td>False</td>\n",
       "      <td>False</td>\n",
       "    </tr>\n",
       "    <tr>\n",
       "      <th>2783977</th>\n",
       "      <td>214</td>\n",
       "      <td>1989.23</td>\n",
       "      <td>C2114146813</td>\n",
       "      <td>304313.0</td>\n",
       "      <td>302323.77</td>\n",
       "      <td>M835293507</td>\n",
       "      <td>0.00</td>\n",
       "      <td>0.00</td>\n",
       "      <td>False</td>\n",
       "      <td>False</td>\n",
       "      <td>False</td>\n",
       "      <td>True</td>\n",
       "      <td>False</td>\n",
       "    </tr>\n",
       "    <tr>\n",
       "      <th>473884</th>\n",
       "      <td>19</td>\n",
       "      <td>197391.78</td>\n",
       "      <td>C727751316</td>\n",
       "      <td>0.0</td>\n",
       "      <td>0.00</td>\n",
       "      <td>C474198775</td>\n",
       "      <td>392053.74</td>\n",
       "      <td>727668.62</td>\n",
       "      <td>False</td>\n",
       "      <td>True</td>\n",
       "      <td>False</td>\n",
       "      <td>False</td>\n",
       "      <td>False</td>\n",
       "    </tr>\n",
       "    <tr>\n",
       "      <th>203854</th>\n",
       "      <td>13</td>\n",
       "      <td>398538.19</td>\n",
       "      <td>C233833771</td>\n",
       "      <td>29287.0</td>\n",
       "      <td>0.00</td>\n",
       "      <td>C1937196092</td>\n",
       "      <td>1890494.51</td>\n",
       "      <td>2289032.70</td>\n",
       "      <td>False</td>\n",
       "      <td>True</td>\n",
       "      <td>False</td>\n",
       "      <td>False</td>\n",
       "      <td>False</td>\n",
       "    </tr>\n",
       "  </tbody>\n",
       "</table>\n",
       "</div>"
      ],
      "text/plain": [
       "         step     amount     nameOrig  oldbalanceOrg  newbalanceOrig  \\\n",
       "1785191   162   10594.29  C1167121278        21441.0        10846.71   \n",
       "4435871   323   15336.57   C989181223        32625.0        47961.57   \n",
       "2783977   214    1989.23  C2114146813       304313.0       302323.77   \n",
       "473884     19  197391.78   C727751316            0.0            0.00   \n",
       "203854     13  398538.19   C233833771        29287.0            0.00   \n",
       "\n",
       "            nameDest  oldbalanceDest  newbalanceDest  type_CASH_IN  \\\n",
       "1785191   M781844579            0.00            0.00         False   \n",
       "4435871   C379566628       404935.06       389598.49          True   \n",
       "2783977   M835293507            0.00            0.00         False   \n",
       "473884    C474198775       392053.74       727668.62         False   \n",
       "203854   C1937196092      1890494.51      2289032.70         False   \n",
       "\n",
       "         type_CASH_OUT  type_DEBIT  type_PAYMENT  type_TRANSFER  \n",
       "1785191          False       False          True          False  \n",
       "4435871          False       False         False          False  \n",
       "2783977          False       False          True          False  \n",
       "473884            True       False         False          False  \n",
       "203854            True       False         False          False  "
      ]
     },
     "execution_count": 18,
     "metadata": {},
     "output_type": "execute_result"
    }
   ],
   "source": [
    "# GENERO UNA COLUMNA POR CADA TIPO DE TRANSACCIÓN\n",
    "X_train = pd.get_dummies(X_train, columns=['type'], dtype=bool)\n",
    "X_train.head()"
   ]
  },
  {
   "attachments": {},
   "cell_type": "markdown",
   "metadata": {},
   "source": [
    "### NAMEORIGIN Y NAMEDEST"
   ]
  },
  {
   "cell_type": "code",
   "execution_count": 19,
   "metadata": {},
   "outputs": [
    {
     "data": {
      "text/html": [
       "<div>\n",
       "<style scoped>\n",
       "    .dataframe tbody tr th:only-of-type {\n",
       "        vertical-align: middle;\n",
       "    }\n",
       "\n",
       "    .dataframe tbody tr th {\n",
       "        vertical-align: top;\n",
       "    }\n",
       "\n",
       "    .dataframe thead th {\n",
       "        text-align: right;\n",
       "    }\n",
       "</style>\n",
       "<table border=\"1\" class=\"dataframe\">\n",
       "  <thead>\n",
       "    <tr style=\"text-align: right;\">\n",
       "      <th></th>\n",
       "      <th>step</th>\n",
       "      <th>amount</th>\n",
       "      <th>nameOrig</th>\n",
       "      <th>oldbalanceOrg</th>\n",
       "      <th>newbalanceOrig</th>\n",
       "      <th>nameDest</th>\n",
       "      <th>oldbalanceDest</th>\n",
       "      <th>newbalanceDest</th>\n",
       "      <th>type_CASH_IN</th>\n",
       "      <th>type_CASH_OUT</th>\n",
       "      <th>type_DEBIT</th>\n",
       "      <th>type_PAYMENT</th>\n",
       "      <th>type_TRANSFER</th>\n",
       "      <th>nameOrig_type</th>\n",
       "      <th>nameDest_type</th>\n",
       "    </tr>\n",
       "  </thead>\n",
       "  <tbody>\n",
       "    <tr>\n",
       "      <th>1785191</th>\n",
       "      <td>162</td>\n",
       "      <td>10594.29</td>\n",
       "      <td>C1167121278</td>\n",
       "      <td>21441.0</td>\n",
       "      <td>10846.71</td>\n",
       "      <td>M781844579</td>\n",
       "      <td>0.00</td>\n",
       "      <td>0.00</td>\n",
       "      <td>False</td>\n",
       "      <td>False</td>\n",
       "      <td>False</td>\n",
       "      <td>True</td>\n",
       "      <td>False</td>\n",
       "      <td>C</td>\n",
       "      <td>M</td>\n",
       "    </tr>\n",
       "    <tr>\n",
       "      <th>4435871</th>\n",
       "      <td>323</td>\n",
       "      <td>15336.57</td>\n",
       "      <td>C989181223</td>\n",
       "      <td>32625.0</td>\n",
       "      <td>47961.57</td>\n",
       "      <td>C379566628</td>\n",
       "      <td>404935.06</td>\n",
       "      <td>389598.49</td>\n",
       "      <td>True</td>\n",
       "      <td>False</td>\n",
       "      <td>False</td>\n",
       "      <td>False</td>\n",
       "      <td>False</td>\n",
       "      <td>C</td>\n",
       "      <td>C</td>\n",
       "    </tr>\n",
       "    <tr>\n",
       "      <th>2783977</th>\n",
       "      <td>214</td>\n",
       "      <td>1989.23</td>\n",
       "      <td>C2114146813</td>\n",
       "      <td>304313.0</td>\n",
       "      <td>302323.77</td>\n",
       "      <td>M835293507</td>\n",
       "      <td>0.00</td>\n",
       "      <td>0.00</td>\n",
       "      <td>False</td>\n",
       "      <td>False</td>\n",
       "      <td>False</td>\n",
       "      <td>True</td>\n",
       "      <td>False</td>\n",
       "      <td>C</td>\n",
       "      <td>M</td>\n",
       "    </tr>\n",
       "    <tr>\n",
       "      <th>473884</th>\n",
       "      <td>19</td>\n",
       "      <td>197391.78</td>\n",
       "      <td>C727751316</td>\n",
       "      <td>0.0</td>\n",
       "      <td>0.00</td>\n",
       "      <td>C474198775</td>\n",
       "      <td>392053.74</td>\n",
       "      <td>727668.62</td>\n",
       "      <td>False</td>\n",
       "      <td>True</td>\n",
       "      <td>False</td>\n",
       "      <td>False</td>\n",
       "      <td>False</td>\n",
       "      <td>C</td>\n",
       "      <td>C</td>\n",
       "    </tr>\n",
       "    <tr>\n",
       "      <th>203854</th>\n",
       "      <td>13</td>\n",
       "      <td>398538.19</td>\n",
       "      <td>C233833771</td>\n",
       "      <td>29287.0</td>\n",
       "      <td>0.00</td>\n",
       "      <td>C1937196092</td>\n",
       "      <td>1890494.51</td>\n",
       "      <td>2289032.70</td>\n",
       "      <td>False</td>\n",
       "      <td>True</td>\n",
       "      <td>False</td>\n",
       "      <td>False</td>\n",
       "      <td>False</td>\n",
       "      <td>C</td>\n",
       "      <td>C</td>\n",
       "    </tr>\n",
       "  </tbody>\n",
       "</table>\n",
       "</div>"
      ],
      "text/plain": [
       "         step     amount     nameOrig  oldbalanceOrg  newbalanceOrig  \\\n",
       "1785191   162   10594.29  C1167121278        21441.0        10846.71   \n",
       "4435871   323   15336.57   C989181223        32625.0        47961.57   \n",
       "2783977   214    1989.23  C2114146813       304313.0       302323.77   \n",
       "473884     19  197391.78   C727751316            0.0            0.00   \n",
       "203854     13  398538.19   C233833771        29287.0            0.00   \n",
       "\n",
       "            nameDest  oldbalanceDest  newbalanceDest  type_CASH_IN  \\\n",
       "1785191   M781844579            0.00            0.00         False   \n",
       "4435871   C379566628       404935.06       389598.49          True   \n",
       "2783977   M835293507            0.00            0.00         False   \n",
       "473884    C474198775       392053.74       727668.62         False   \n",
       "203854   C1937196092      1890494.51      2289032.70         False   \n",
       "\n",
       "         type_CASH_OUT  type_DEBIT  type_PAYMENT  type_TRANSFER nameOrig_type  \\\n",
       "1785191          False       False          True          False             C   \n",
       "4435871          False       False         False          False             C   \n",
       "2783977          False       False          True          False             C   \n",
       "473884            True       False         False          False             C   \n",
       "203854            True       False         False          False             C   \n",
       "\n",
       "        nameDest_type  \n",
       "1785191             M  \n",
       "4435871             C  \n",
       "2783977             M  \n",
       "473884              C  \n",
       "203854              C  "
      ]
     },
     "execution_count": 19,
     "metadata": {},
     "output_type": "execute_result"
    }
   ],
   "source": [
    "# Solo me quedo con el tipo del nameOrig\n",
    "X_train['nameOrig_type'] = X_train['nameOrig'].str.slice(stop=1)\n",
    "\n",
    "#Descarto el numero del campo nameOrig porque no aporta informacion\n",
    "#X_train['nameOrig_num'] = X_train['nameOrig'].str.slice(start=1)\n",
    "\n",
    "# Solo me quedo con el tipo del nameDest\n",
    "X_train['nameDest_type'] = X_train['nameDest'].str.slice(stop=1)\n",
    "\n",
    "#Descarto el numero del campo namedest porque no aporta informacion\n",
    "#X_train['nameDest_num'] = X_train['nameDest'].str.slice(start=1)\n",
    "\n",
    "X_train.head()"
   ]
  },
  {
   "cell_type": "code",
   "execution_count": 20,
   "metadata": {},
   "outputs": [
    {
     "data": {
      "text/html": [
       "<div>\n",
       "<style scoped>\n",
       "    .dataframe tbody tr th:only-of-type {\n",
       "        vertical-align: middle;\n",
       "    }\n",
       "\n",
       "    .dataframe tbody tr th {\n",
       "        vertical-align: top;\n",
       "    }\n",
       "\n",
       "    .dataframe thead th {\n",
       "        text-align: right;\n",
       "    }\n",
       "</style>\n",
       "<table border=\"1\" class=\"dataframe\">\n",
       "  <thead>\n",
       "    <tr style=\"text-align: right;\">\n",
       "      <th></th>\n",
       "      <th>step</th>\n",
       "      <th>amount</th>\n",
       "      <th>oldbalanceOrg</th>\n",
       "      <th>newbalanceOrig</th>\n",
       "      <th>oldbalanceDest</th>\n",
       "      <th>newbalanceDest</th>\n",
       "      <th>type_CASH_IN</th>\n",
       "      <th>type_CASH_OUT</th>\n",
       "      <th>type_DEBIT</th>\n",
       "      <th>type_PAYMENT</th>\n",
       "      <th>type_TRANSFER</th>\n",
       "      <th>nameOrig_type</th>\n",
       "      <th>nameDest_type</th>\n",
       "    </tr>\n",
       "  </thead>\n",
       "  <tbody>\n",
       "    <tr>\n",
       "      <th>1785191</th>\n",
       "      <td>162</td>\n",
       "      <td>10594.29</td>\n",
       "      <td>21441.0</td>\n",
       "      <td>10846.71</td>\n",
       "      <td>0.00</td>\n",
       "      <td>0.00</td>\n",
       "      <td>False</td>\n",
       "      <td>False</td>\n",
       "      <td>False</td>\n",
       "      <td>True</td>\n",
       "      <td>False</td>\n",
       "      <td>C</td>\n",
       "      <td>M</td>\n",
       "    </tr>\n",
       "    <tr>\n",
       "      <th>4435871</th>\n",
       "      <td>323</td>\n",
       "      <td>15336.57</td>\n",
       "      <td>32625.0</td>\n",
       "      <td>47961.57</td>\n",
       "      <td>404935.06</td>\n",
       "      <td>389598.49</td>\n",
       "      <td>True</td>\n",
       "      <td>False</td>\n",
       "      <td>False</td>\n",
       "      <td>False</td>\n",
       "      <td>False</td>\n",
       "      <td>C</td>\n",
       "      <td>C</td>\n",
       "    </tr>\n",
       "    <tr>\n",
       "      <th>2783977</th>\n",
       "      <td>214</td>\n",
       "      <td>1989.23</td>\n",
       "      <td>304313.0</td>\n",
       "      <td>302323.77</td>\n",
       "      <td>0.00</td>\n",
       "      <td>0.00</td>\n",
       "      <td>False</td>\n",
       "      <td>False</td>\n",
       "      <td>False</td>\n",
       "      <td>True</td>\n",
       "      <td>False</td>\n",
       "      <td>C</td>\n",
       "      <td>M</td>\n",
       "    </tr>\n",
       "    <tr>\n",
       "      <th>473884</th>\n",
       "      <td>19</td>\n",
       "      <td>197391.78</td>\n",
       "      <td>0.0</td>\n",
       "      <td>0.00</td>\n",
       "      <td>392053.74</td>\n",
       "      <td>727668.62</td>\n",
       "      <td>False</td>\n",
       "      <td>True</td>\n",
       "      <td>False</td>\n",
       "      <td>False</td>\n",
       "      <td>False</td>\n",
       "      <td>C</td>\n",
       "      <td>C</td>\n",
       "    </tr>\n",
       "    <tr>\n",
       "      <th>203854</th>\n",
       "      <td>13</td>\n",
       "      <td>398538.19</td>\n",
       "      <td>29287.0</td>\n",
       "      <td>0.00</td>\n",
       "      <td>1890494.51</td>\n",
       "      <td>2289032.70</td>\n",
       "      <td>False</td>\n",
       "      <td>True</td>\n",
       "      <td>False</td>\n",
       "      <td>False</td>\n",
       "      <td>False</td>\n",
       "      <td>C</td>\n",
       "      <td>C</td>\n",
       "    </tr>\n",
       "  </tbody>\n",
       "</table>\n",
       "</div>"
      ],
      "text/plain": [
       "         step     amount  oldbalanceOrg  newbalanceOrig  oldbalanceDest  \\\n",
       "1785191   162   10594.29        21441.0        10846.71            0.00   \n",
       "4435871   323   15336.57        32625.0        47961.57       404935.06   \n",
       "2783977   214    1989.23       304313.0       302323.77            0.00   \n",
       "473884     19  197391.78            0.0            0.00       392053.74   \n",
       "203854     13  398538.19        29287.0            0.00      1890494.51   \n",
       "\n",
       "         newbalanceDest  type_CASH_IN  type_CASH_OUT  type_DEBIT  \\\n",
       "1785191            0.00         False          False       False   \n",
       "4435871       389598.49          True          False       False   \n",
       "2783977            0.00         False          False       False   \n",
       "473884        727668.62         False           True       False   \n",
       "203854       2289032.70         False           True       False   \n",
       "\n",
       "         type_PAYMENT  type_TRANSFER nameOrig_type nameDest_type  \n",
       "1785191          True          False             C             M  \n",
       "4435871         False          False             C             C  \n",
       "2783977          True          False             C             M  \n",
       "473884          False          False             C             C  \n",
       "203854          False          False             C             C  "
      ]
     },
     "execution_count": 20,
     "metadata": {},
     "output_type": "execute_result"
    }
   ],
   "source": [
    "#Elimino las columnas nameOrig y nameDest que ya fueron reemplazadas por nameOrig_type y nameDest_type\n",
    "X_train.drop('nameOrig', axis=1, inplace=True)\n",
    "X_train.drop('nameDest', axis=1, inplace=True)\n",
    "\n",
    "X_train.head()"
   ]
  },
  {
   "cell_type": "code",
   "execution_count": 21,
   "metadata": {},
   "outputs": [
    {
     "data": {
      "text/html": [
       "<div>\n",
       "<style scoped>\n",
       "    .dataframe tbody tr th:only-of-type {\n",
       "        vertical-align: middle;\n",
       "    }\n",
       "\n",
       "    .dataframe tbody tr th {\n",
       "        vertical-align: top;\n",
       "    }\n",
       "\n",
       "    .dataframe thead th {\n",
       "        text-align: right;\n",
       "    }\n",
       "</style>\n",
       "<table border=\"1\" class=\"dataframe\">\n",
       "  <thead>\n",
       "    <tr style=\"text-align: right;\">\n",
       "      <th></th>\n",
       "      <th>step</th>\n",
       "      <th>amount</th>\n",
       "      <th>oldbalanceOrg</th>\n",
       "      <th>newbalanceOrig</th>\n",
       "      <th>oldbalanceDest</th>\n",
       "      <th>newbalanceDest</th>\n",
       "      <th>type_CASH_IN</th>\n",
       "      <th>type_CASH_OUT</th>\n",
       "      <th>type_DEBIT</th>\n",
       "      <th>type_PAYMENT</th>\n",
       "      <th>type_TRANSFER</th>\n",
       "      <th>nameOrig_type_C</th>\n",
       "      <th>nameDest_type_C</th>\n",
       "      <th>nameDest_type_M</th>\n",
       "    </tr>\n",
       "  </thead>\n",
       "  <tbody>\n",
       "    <tr>\n",
       "      <th>1785191</th>\n",
       "      <td>162</td>\n",
       "      <td>10594.29</td>\n",
       "      <td>21441.0</td>\n",
       "      <td>10846.71</td>\n",
       "      <td>0.00</td>\n",
       "      <td>0.00</td>\n",
       "      <td>False</td>\n",
       "      <td>False</td>\n",
       "      <td>False</td>\n",
       "      <td>True</td>\n",
       "      <td>False</td>\n",
       "      <td>True</td>\n",
       "      <td>False</td>\n",
       "      <td>True</td>\n",
       "    </tr>\n",
       "    <tr>\n",
       "      <th>4435871</th>\n",
       "      <td>323</td>\n",
       "      <td>15336.57</td>\n",
       "      <td>32625.0</td>\n",
       "      <td>47961.57</td>\n",
       "      <td>404935.06</td>\n",
       "      <td>389598.49</td>\n",
       "      <td>True</td>\n",
       "      <td>False</td>\n",
       "      <td>False</td>\n",
       "      <td>False</td>\n",
       "      <td>False</td>\n",
       "      <td>True</td>\n",
       "      <td>True</td>\n",
       "      <td>False</td>\n",
       "    </tr>\n",
       "    <tr>\n",
       "      <th>2783977</th>\n",
       "      <td>214</td>\n",
       "      <td>1989.23</td>\n",
       "      <td>304313.0</td>\n",
       "      <td>302323.77</td>\n",
       "      <td>0.00</td>\n",
       "      <td>0.00</td>\n",
       "      <td>False</td>\n",
       "      <td>False</td>\n",
       "      <td>False</td>\n",
       "      <td>True</td>\n",
       "      <td>False</td>\n",
       "      <td>True</td>\n",
       "      <td>False</td>\n",
       "      <td>True</td>\n",
       "    </tr>\n",
       "    <tr>\n",
       "      <th>473884</th>\n",
       "      <td>19</td>\n",
       "      <td>197391.78</td>\n",
       "      <td>0.0</td>\n",
       "      <td>0.00</td>\n",
       "      <td>392053.74</td>\n",
       "      <td>727668.62</td>\n",
       "      <td>False</td>\n",
       "      <td>True</td>\n",
       "      <td>False</td>\n",
       "      <td>False</td>\n",
       "      <td>False</td>\n",
       "      <td>True</td>\n",
       "      <td>True</td>\n",
       "      <td>False</td>\n",
       "    </tr>\n",
       "    <tr>\n",
       "      <th>203854</th>\n",
       "      <td>13</td>\n",
       "      <td>398538.19</td>\n",
       "      <td>29287.0</td>\n",
       "      <td>0.00</td>\n",
       "      <td>1890494.51</td>\n",
       "      <td>2289032.70</td>\n",
       "      <td>False</td>\n",
       "      <td>True</td>\n",
       "      <td>False</td>\n",
       "      <td>False</td>\n",
       "      <td>False</td>\n",
       "      <td>True</td>\n",
       "      <td>True</td>\n",
       "      <td>False</td>\n",
       "    </tr>\n",
       "  </tbody>\n",
       "</table>\n",
       "</div>"
      ],
      "text/plain": [
       "         step     amount  oldbalanceOrg  newbalanceOrig  oldbalanceDest  \\\n",
       "1785191   162   10594.29        21441.0        10846.71            0.00   \n",
       "4435871   323   15336.57        32625.0        47961.57       404935.06   \n",
       "2783977   214    1989.23       304313.0       302323.77            0.00   \n",
       "473884     19  197391.78            0.0            0.00       392053.74   \n",
       "203854     13  398538.19        29287.0            0.00      1890494.51   \n",
       "\n",
       "         newbalanceDest  type_CASH_IN  type_CASH_OUT  type_DEBIT  \\\n",
       "1785191            0.00         False          False       False   \n",
       "4435871       389598.49          True          False       False   \n",
       "2783977            0.00         False          False       False   \n",
       "473884        727668.62         False           True       False   \n",
       "203854       2289032.70         False           True       False   \n",
       "\n",
       "         type_PAYMENT  type_TRANSFER  nameOrig_type_C  nameDest_type_C  \\\n",
       "1785191          True          False             True            False   \n",
       "4435871         False          False             True             True   \n",
       "2783977          True          False             True            False   \n",
       "473884          False          False             True             True   \n",
       "203854          False          False             True             True   \n",
       "\n",
       "         nameDest_type_M  \n",
       "1785191             True  \n",
       "4435871            False  \n",
       "2783977             True  \n",
       "473884             False  \n",
       "203854             False  "
      ]
     },
     "execution_count": 21,
     "metadata": {},
     "output_type": "execute_result"
    }
   ],
   "source": [
    "# GENERO UNA COLUMNA POR CADA TIPO DE ORIGEN Y DESTINO\n",
    "X_train = pd.get_dummies(X_train, columns=['nameOrig_type', 'nameDest_type'], dtype=bool)\n",
    "X_train.head()"
   ]
  },
  {
   "cell_type": "code",
   "execution_count": 22,
   "metadata": {},
   "outputs": [
    {
     "data": {
      "text/plain": [
       "14"
      ]
     },
     "execution_count": 22,
     "metadata": {},
     "output_type": "execute_result"
    }
   ],
   "source": [
    "#CARACTERISTICAS TOTALES\n",
    "columns = X_train.columns\n",
    "len(X_train.columns)"
   ]
  },
  {
   "attachments": {},
   "cell_type": "markdown",
   "metadata": {},
   "source": [
    "## ESTANDARIZACIÓN"
   ]
  },
  {
   "cell_type": "code",
   "execution_count": 23,
   "metadata": {},
   "outputs": [],
   "source": [
    "scaler = StandardScaler()\n",
    "X_train_escalado = scaler.fit_transform(X_train)"
   ]
  },
  {
   "attachments": {},
   "cell_type": "markdown",
   "metadata": {},
   "source": [
    "## PREPROCESAMIENTO DEL DATASET DE TEST"
   ]
  },
  {
   "cell_type": "code",
   "execution_count": 24,
   "metadata": {},
   "outputs": [],
   "source": [
    "#COPIAR EL DATASET ORIGINAL PARA NO PERDERLO\n",
    "X_test_amount = X_test['amount']"
   ]
  },
  {
   "cell_type": "code",
   "execution_count": 25,
   "metadata": {},
   "outputs": [],
   "source": [
    "\n",
    "X_test = pd.get_dummies(X_test, columns=['type'], dtype=bool)\n",
    "X_test['nameOrig_type'] = X_test['nameOrig'].str.slice(stop=1)\n",
    "# X_test['nameOrig_num'] = X_test['nameOrig'].str.slice(start=1) #No se usa esta columna ya que no aporta información relevante\n",
    "X_test['nameDest_type'] = X_test['nameDest'].str.slice(stop=1)\n",
    "# X_test['nameDest_num'] = X_test['nameDest'].str.slice(start=1) #No se usa esta columna ya que no aporta información relevante\n",
    "X_test.drop('nameOrig', axis=1, inplace=True)\n",
    "X_test.drop('nameDest', axis=1, inplace=True)\n",
    "X_test = pd.get_dummies(X_test, columns=['nameOrig_type', 'nameDest_type'], dtype=bool)\n",
    "\n",
    "X_test_escalado = scaler.fit_transform(X_test)"
   ]
  },
  {
   "cell_type": "code",
   "execution_count": 26,
   "metadata": {},
   "outputs": [],
   "source": [
    "#Función que calcula el monto ganado segun las predicciones del modelo\n",
    "def profit_metric(y_true, y_pred):\n",
    "    # Obtener el monto de cada transacción\n",
    "    amount = X_test_amount\n",
    "    \n",
    "    # Calcular el monto total de las transacciones correctamente aprobadas\n",
    "    correct_amount = np.sum(amount[(y_true == 0) & (y_pred == 0)]) * 0.2\n",
    "    \n",
    "    # Calcular el monto total de las transacciones fraudulentas no detectadas\n",
    "    undetected_amount = np.sum(amount[(y_true == 1) & (y_pred == 0)])\n",
    "    \n",
    "    # Calcular la métrica\n",
    "    metric = correct_amount - undetected_amount\n",
    "    \n",
    "    return metric"
   ]
  },
  {
   "attachments": {},
   "cell_type": "markdown",
   "metadata": {},
   "source": [
    "# ENTRENAMIENTOS DE MODELOS SIN BALANCEO"
   ]
  },
  {
   "attachments": {},
   "cell_type": "markdown",
   "metadata": {},
   "source": [
    "## LogisticRegression (Sin Balanceo)"
   ]
  },
  {
   "cell_type": "code",
   "execution_count": 59,
   "metadata": {},
   "outputs": [
    {
     "name": "stdout",
     "output_type": "stream",
     "text": [
      "Fitting 3 folds for each of 6 candidates, totalling 18 fits\n",
      "{'max_iter': 1000, 'class_weight': 'balanced', 'C': 1}\n",
      "0.9534100633757202\n"
     ]
    }
   ],
   "source": [
    "# Define los posibles valores de los hiperparámetros\n",
    "param_distributions = {\n",
    "    'C': [1, 10, 100],\n",
    "    'max_iter': [500, 1000, 1500],\n",
    "    'class_weight': ['balanced', None],\n",
    "}\n",
    "\n",
    "# Crea el modelo base\n",
    "base_model = LogisticRegression()\n",
    "\n",
    "# Define el grid search con validación cruzada\n",
    "grid_search = RandomizedSearchCV(\n",
    "    estimator=base_model,\n",
    "    param_distributions=param_distributions,\n",
    "    scoring='recall',\n",
    "    cv=3,\n",
    "    n_jobs=6,\n",
    "    n_iter=6,\n",
    "    verbose=3\n",
    ")\n",
    "\n",
    "# Realiza la búsqueda de los mejores hiperparámetros\n",
    "grid_search.fit(X_train_escalado, Y_train)\n",
    "\n",
    "# Obtiene los resultados\n",
    "best_params = grid_search.best_params_\n",
    "best_score = grid_search.best_score_\n",
    "\n",
    "print(best_params)\n",
    "print(best_score)"
   ]
  },
  {
   "cell_type": "code",
   "execution_count": 60,
   "metadata": {},
   "outputs": [
    {
     "name": "stdout",
     "output_type": "stream",
     "text": [
      "Matriz de confusion:\n",
      "[[1507765   80837]\n",
      " [     95    1958]]\n",
      "Mejores hiperparámetros: {'max_iter': 1000, 'class_weight': 'balanced', 'C': 1}\n",
      "Mejor puntaje de la función de costo: 0.9534100633757202\n",
      "Puntaje de la función de costo en el conjunto de prueba: 54283061144.008\n"
     ]
    }
   ],
   "source": [
    "# Evalúa el rendimiento del modelo final en el conjunto de prueba\n",
    "logr_y_hat = grid_search.predict(X_test_escalado)\n",
    "test_score = profit_metric(Y_test, logr_y_hat)\n",
    "cm_lr = confusion_matrix(Y_test, logr_y_hat)\n",
    "\n",
    "print(\"Matriz de confusion:\")\n",
    "print(cm_lr)\n",
    "print(\"Mejores hiperparámetros:\", best_params)\n",
    "print(\"Mejor puntaje de la función de costo:\", best_score)\n",
    "print(\"Puntaje de la función de costo en el conjunto de prueba:\", test_score)"
   ]
  },
  {
   "cell_type": "code",
   "execution_count": 61,
   "metadata": {},
   "outputs": [
    {
     "name": "stdout",
     "output_type": "stream",
     "text": [
      "              precision    recall  f1-score   support\n",
      "\n",
      "           0       1.00      0.95      0.97   1588602\n",
      "           1       0.02      0.95      0.05      2053\n",
      "\n",
      "    accuracy                           0.95   1590655\n",
      "   macro avg       0.51      0.95      0.51   1590655\n",
      "weighted avg       1.00      0.95      0.97   1590655\n",
      "\n"
     ]
    }
   ],
   "source": [
    "print(classification_report(Y_test, logr_y_hat))"
   ]
  },
  {
   "attachments": {},
   "cell_type": "markdown",
   "metadata": {},
   "source": [
    "### RESULTADO\n",
    "\n",
    "Buscando los mejores parámetros con RandomizedSearchCV el modelo LigisticRegression logra los siguientes resultados:\n",
    "\n",
    "```python\n",
    "Matriz de confusion:\n",
    "[[1507765   80837]\n",
    " [     95    1958]]\n",
    "Mejores hiperparámetros: {'max_iter': 1000, 'class_weight': 'balanced', 'C': 1}\n",
    "Mejor puntaje de la función de costo: 0.9534100633757202\n",
    "Puntaje de la función de costo en el conjunto de prueba: 54283061144.008\n",
    "```"
   ]
  },
  {
   "cell_type": "code",
   "execution_count": 119,
   "metadata": {},
   "outputs": [
    {
     "data": {
      "text/html": [
       "<style>#sk-container-id-2 {color: black;background-color: white;}#sk-container-id-2 pre{padding: 0;}#sk-container-id-2 div.sk-toggleable {background-color: white;}#sk-container-id-2 label.sk-toggleable__label {cursor: pointer;display: block;width: 100%;margin-bottom: 0;padding: 0.3em;box-sizing: border-box;text-align: center;}#sk-container-id-2 label.sk-toggleable__label-arrow:before {content: \"▸\";float: left;margin-right: 0.25em;color: #696969;}#sk-container-id-2 label.sk-toggleable__label-arrow:hover:before {color: black;}#sk-container-id-2 div.sk-estimator:hover label.sk-toggleable__label-arrow:before {color: black;}#sk-container-id-2 div.sk-toggleable__content {max-height: 0;max-width: 0;overflow: hidden;text-align: left;background-color: #f0f8ff;}#sk-container-id-2 div.sk-toggleable__content pre {margin: 0.2em;color: black;border-radius: 0.25em;background-color: #f0f8ff;}#sk-container-id-2 input.sk-toggleable__control:checked~div.sk-toggleable__content {max-height: 200px;max-width: 100%;overflow: auto;}#sk-container-id-2 input.sk-toggleable__control:checked~label.sk-toggleable__label-arrow:before {content: \"▾\";}#sk-container-id-2 div.sk-estimator input.sk-toggleable__control:checked~label.sk-toggleable__label {background-color: #d4ebff;}#sk-container-id-2 div.sk-label input.sk-toggleable__control:checked~label.sk-toggleable__label {background-color: #d4ebff;}#sk-container-id-2 input.sk-hidden--visually {border: 0;clip: rect(1px 1px 1px 1px);clip: rect(1px, 1px, 1px, 1px);height: 1px;margin: -1px;overflow: hidden;padding: 0;position: absolute;width: 1px;}#sk-container-id-2 div.sk-estimator {font-family: monospace;background-color: #f0f8ff;border: 1px dotted black;border-radius: 0.25em;box-sizing: border-box;margin-bottom: 0.5em;}#sk-container-id-2 div.sk-estimator:hover {background-color: #d4ebff;}#sk-container-id-2 div.sk-parallel-item::after {content: \"\";width: 100%;border-bottom: 1px solid gray;flex-grow: 1;}#sk-container-id-2 div.sk-label:hover label.sk-toggleable__label {background-color: #d4ebff;}#sk-container-id-2 div.sk-serial::before {content: \"\";position: absolute;border-left: 1px solid gray;box-sizing: border-box;top: 0;bottom: 0;left: 50%;z-index: 0;}#sk-container-id-2 div.sk-serial {display: flex;flex-direction: column;align-items: center;background-color: white;padding-right: 0.2em;padding-left: 0.2em;position: relative;}#sk-container-id-2 div.sk-item {position: relative;z-index: 1;}#sk-container-id-2 div.sk-parallel {display: flex;align-items: stretch;justify-content: center;background-color: white;position: relative;}#sk-container-id-2 div.sk-item::before, #sk-container-id-2 div.sk-parallel-item::before {content: \"\";position: absolute;border-left: 1px solid gray;box-sizing: border-box;top: 0;bottom: 0;left: 50%;z-index: -1;}#sk-container-id-2 div.sk-parallel-item {display: flex;flex-direction: column;z-index: 1;position: relative;background-color: white;}#sk-container-id-2 div.sk-parallel-item:first-child::after {align-self: flex-end;width: 50%;}#sk-container-id-2 div.sk-parallel-item:last-child::after {align-self: flex-start;width: 50%;}#sk-container-id-2 div.sk-parallel-item:only-child::after {width: 0;}#sk-container-id-2 div.sk-dashed-wrapped {border: 1px dashed gray;margin: 0 0.4em 0.5em 0.4em;box-sizing: border-box;padding-bottom: 0.4em;background-color: white;}#sk-container-id-2 div.sk-label label {font-family: monospace;font-weight: bold;display: inline-block;line-height: 1.2em;}#sk-container-id-2 div.sk-label-container {text-align: center;}#sk-container-id-2 div.sk-container {/* jupyter's `normalize.less` sets `[hidden] { display: none; }` but bootstrap.min.css set `[hidden] { display: none !important; }` so we also need the `!important` here to be able to override the default hidden behavior on the sphinx rendered scikit-learn.org. See: https://github.com/scikit-learn/scikit-learn/issues/21755 */display: inline-block !important;position: relative;}#sk-container-id-2 div.sk-text-repr-fallback {display: none;}</style><div id=\"sk-container-id-2\" class=\"sk-top-container\"><div class=\"sk-text-repr-fallback\"><pre>LogisticRegression(C=100, class_weight=&#x27;balanced&#x27;, max_iter=1000, n_jobs=-1)</pre><b>In a Jupyter environment, please rerun this cell to show the HTML representation or trust the notebook. <br />On GitHub, the HTML representation is unable to render, please try loading this page with nbviewer.org.</b></div><div class=\"sk-container\" hidden><div class=\"sk-item\"><div class=\"sk-estimator sk-toggleable\"><input class=\"sk-toggleable__control sk-hidden--visually\" id=\"sk-estimator-id-2\" type=\"checkbox\" checked><label for=\"sk-estimator-id-2\" class=\"sk-toggleable__label sk-toggleable__label-arrow\">LogisticRegression</label><div class=\"sk-toggleable__content\"><pre>LogisticRegression(C=100, class_weight=&#x27;balanced&#x27;, max_iter=1000, n_jobs=-1)</pre></div></div></div></div></div>"
      ],
      "text/plain": [
       "LogisticRegression(C=100, class_weight='balanced', max_iter=1000, n_jobs=-1)"
      ]
     },
     "execution_count": 119,
     "metadata": {},
     "output_type": "execute_result"
    }
   ],
   "source": [
    "logr = LogisticRegression(max_iter=1000, class_weight=\"balanced\", C=100, n_jobs=-1)\n",
    "logr.fit(X_train,Y_train)"
   ]
  },
  {
   "cell_type": "code",
   "execution_count": 120,
   "metadata": {},
   "outputs": [
    {
     "name": "stdout",
     "output_type": "stream",
     "text": [
      "Matriz de confusion:\n",
      "[[1507747   80855]\n",
      " [     90    1963]]\n",
      "Mejores hiperparámetros: {'max_iter': 1500, 'class_weight': 'balanced', 'C': 100}\n",
      "Mejor puntaje de la función de costo: 0.9627344831927483\n",
      "Puntaje de la función de costo en el conjunto de prueba: 54333583388.11802\n"
     ]
    }
   ],
   "source": [
    "# Evalúa el rendimiento del modelo final en el conjunto de prueba\n",
    "logr_y_hat = logr.predict(X_test_escalado)\n",
    "test_score = profit_metric(Y_test, logr_y_hat)\n",
    "cm_lr = confusion_matrix(Y_test, logr_y_hat)\n",
    "\n",
    "print(\"Matriz de confusion:\")\n",
    "print(cm_lr)\n",
    "print(\"Mejores hiperparámetros:\", best_params)\n",
    "print(\"Mejor puntaje de la función de costo:\", best_score)\n",
    "print(\"Puntaje de la función de costo en el conjunto de prueba:\", test_score)"
   ]
  },
  {
   "attachments": {},
   "cell_type": "markdown",
   "metadata": {},
   "source": [
    "## LogisticRegressionCV (Sin Balanceo)"
   ]
  },
  {
   "cell_type": "code",
   "execution_count": 50,
   "metadata": {},
   "outputs": [
    {
     "data": {
      "text/html": [
       "<style>#sk-container-id-2 {color: black;background-color: white;}#sk-container-id-2 pre{padding: 0;}#sk-container-id-2 div.sk-toggleable {background-color: white;}#sk-container-id-2 label.sk-toggleable__label {cursor: pointer;display: block;width: 100%;margin-bottom: 0;padding: 0.3em;box-sizing: border-box;text-align: center;}#sk-container-id-2 label.sk-toggleable__label-arrow:before {content: \"▸\";float: left;margin-right: 0.25em;color: #696969;}#sk-container-id-2 label.sk-toggleable__label-arrow:hover:before {color: black;}#sk-container-id-2 div.sk-estimator:hover label.sk-toggleable__label-arrow:before {color: black;}#sk-container-id-2 div.sk-toggleable__content {max-height: 0;max-width: 0;overflow: hidden;text-align: left;background-color: #f0f8ff;}#sk-container-id-2 div.sk-toggleable__content pre {margin: 0.2em;color: black;border-radius: 0.25em;background-color: #f0f8ff;}#sk-container-id-2 input.sk-toggleable__control:checked~div.sk-toggleable__content {max-height: 200px;max-width: 100%;overflow: auto;}#sk-container-id-2 input.sk-toggleable__control:checked~label.sk-toggleable__label-arrow:before {content: \"▾\";}#sk-container-id-2 div.sk-estimator input.sk-toggleable__control:checked~label.sk-toggleable__label {background-color: #d4ebff;}#sk-container-id-2 div.sk-label input.sk-toggleable__control:checked~label.sk-toggleable__label {background-color: #d4ebff;}#sk-container-id-2 input.sk-hidden--visually {border: 0;clip: rect(1px 1px 1px 1px);clip: rect(1px, 1px, 1px, 1px);height: 1px;margin: -1px;overflow: hidden;padding: 0;position: absolute;width: 1px;}#sk-container-id-2 div.sk-estimator {font-family: monospace;background-color: #f0f8ff;border: 1px dotted black;border-radius: 0.25em;box-sizing: border-box;margin-bottom: 0.5em;}#sk-container-id-2 div.sk-estimator:hover {background-color: #d4ebff;}#sk-container-id-2 div.sk-parallel-item::after {content: \"\";width: 100%;border-bottom: 1px solid gray;flex-grow: 1;}#sk-container-id-2 div.sk-label:hover label.sk-toggleable__label {background-color: #d4ebff;}#sk-container-id-2 div.sk-serial::before {content: \"\";position: absolute;border-left: 1px solid gray;box-sizing: border-box;top: 0;bottom: 0;left: 50%;z-index: 0;}#sk-container-id-2 div.sk-serial {display: flex;flex-direction: column;align-items: center;background-color: white;padding-right: 0.2em;padding-left: 0.2em;position: relative;}#sk-container-id-2 div.sk-item {position: relative;z-index: 1;}#sk-container-id-2 div.sk-parallel {display: flex;align-items: stretch;justify-content: center;background-color: white;position: relative;}#sk-container-id-2 div.sk-item::before, #sk-container-id-2 div.sk-parallel-item::before {content: \"\";position: absolute;border-left: 1px solid gray;box-sizing: border-box;top: 0;bottom: 0;left: 50%;z-index: -1;}#sk-container-id-2 div.sk-parallel-item {display: flex;flex-direction: column;z-index: 1;position: relative;background-color: white;}#sk-container-id-2 div.sk-parallel-item:first-child::after {align-self: flex-end;width: 50%;}#sk-container-id-2 div.sk-parallel-item:last-child::after {align-self: flex-start;width: 50%;}#sk-container-id-2 div.sk-parallel-item:only-child::after {width: 0;}#sk-container-id-2 div.sk-dashed-wrapped {border: 1px dashed gray;margin: 0 0.4em 0.5em 0.4em;box-sizing: border-box;padding-bottom: 0.4em;background-color: white;}#sk-container-id-2 div.sk-label label {font-family: monospace;font-weight: bold;display: inline-block;line-height: 1.2em;}#sk-container-id-2 div.sk-label-container {text-align: center;}#sk-container-id-2 div.sk-container {/* jupyter's `normalize.less` sets `[hidden] { display: none; }` but bootstrap.min.css set `[hidden] { display: none !important; }` so we also need the `!important` here to be able to override the default hidden behavior on the sphinx rendered scikit-learn.org. See: https://github.com/scikit-learn/scikit-learn/issues/21755 */display: inline-block !important;position: relative;}#sk-container-id-2 div.sk-text-repr-fallback {display: none;}</style><div id=\"sk-container-id-2\" class=\"sk-top-container\"><div class=\"sk-text-repr-fallback\"><pre>LogisticRegressionCV(cv=5, max_iter=2000, n_jobs=4, scoring=&#x27;recall&#x27;)</pre><b>In a Jupyter environment, please rerun this cell to show the HTML representation or trust the notebook. <br />On GitHub, the HTML representation is unable to render, please try loading this page with nbviewer.org.</b></div><div class=\"sk-container\" hidden><div class=\"sk-item\"><div class=\"sk-estimator sk-toggleable\"><input class=\"sk-toggleable__control sk-hidden--visually\" id=\"sk-estimator-id-2\" type=\"checkbox\" checked><label for=\"sk-estimator-id-2\" class=\"sk-toggleable__label sk-toggleable__label-arrow\">LogisticRegressionCV</label><div class=\"sk-toggleable__content\"><pre>LogisticRegressionCV(cv=5, max_iter=2000, n_jobs=4, scoring=&#x27;recall&#x27;)</pre></div></div></div></div></div>"
      ],
      "text/plain": [
       "LogisticRegressionCV(cv=5, max_iter=2000, n_jobs=4, scoring='recall')"
      ]
     },
     "execution_count": 50,
     "metadata": {},
     "output_type": "execute_result"
    }
   ],
   "source": [
    "logr = LogisticRegressionCV(cv=5, scoring='recall', n_jobs=4, max_iter=2000)\n",
    "logr.fit(X_train_escalado,Y_train)"
   ]
  },
  {
   "cell_type": "code",
   "execution_count": 51,
   "metadata": {},
   "outputs": [
    {
     "name": "stdout",
     "output_type": "stream",
     "text": [
      "Matriz de confusion:\n",
      "[[1588510      92]\n",
      " [   1033    1020]]\n",
      "Puntaje de la función de costo en el conjunto de prueba: 56395224214.32601\n"
     ]
    }
   ],
   "source": [
    "# Evalúa el rendimiento del modelo final en el conjunto de prueba\n",
    "logr_y_hat = logr.predict(X_test_escalado)\n",
    "test_score = profit_metric(Y_test, logr_y_hat)\n",
    "cm_lr = confusion_matrix(Y_test, logr_y_hat)\n",
    "\n",
    "print(\"Matriz de confusion:\")\n",
    "print(cm_lr)\n",
    "print(\"Puntaje de la función de costo en el conjunto de prueba:\", test_score)"
   ]
  },
  {
   "cell_type": "code",
   "execution_count": null,
   "metadata": {},
   "outputs": [],
   "source": [
    "print(classification_report(Y_test, logr_y_hat))"
   ]
  },
  {
   "attachments": {},
   "cell_type": "markdown",
   "metadata": {},
   "source": [
    "### RESULTADO\n",
    "Entrenando un modelo de LogisticRegressionCV se logran los siguientes resultados:\n",
    "\n",
    "```python\n",
    "Matriz de confusion:\n",
    "[[1588510      92]\n",
    " [   1033    1020]]\n",
    "Puntaje de la función de costo en el conjunto de prueba: 56395224214.32601\n",
    "```"
   ]
  },
  {
   "attachments": {},
   "cell_type": "markdown",
   "metadata": {},
   "source": [
    "## RandomForest (Sin Balanceo)"
   ]
  },
  {
   "cell_type": "code",
   "execution_count": 64,
   "metadata": {},
   "outputs": [
    {
     "name": "stdout",
     "output_type": "stream",
     "text": [
      "Fitting 4 folds for each of 10 candidates, totalling 40 fits\n",
      "{'n_estimators': 30, 'max_depth': 35, 'class_weight': None}\n",
      "0.7737012987012988\n"
     ]
    }
   ],
   "source": [
    "# Define los posibles valores de los hiperparámetros\n",
    "param_grid = {\n",
    "    'n_estimators': [10, 20, 30],\n",
    "    'max_depth': [35, 40, 45],\n",
    "    'class_weight': ['balanced', None],\n",
    "}\n",
    "\n",
    "# Crea el modelo base\n",
    "base_model = RandomForestClassifier()\n",
    "\n",
    "# Define el grid search con validación cruzada\n",
    "grid_search = RandomizedSearchCV(\n",
    "    estimator=base_model,\n",
    "    param_distributions=param_grid,\n",
    "    scoring='recall',\n",
    "    cv=4,\n",
    "    n_jobs=8,\n",
    "    verbose=3\n",
    ")\n",
    "\n",
    "# Realiza la búsqueda de los mejores hiperparámetros\n",
    "grid_search.fit(X_train_escalado, Y_train)\n",
    "\n",
    "# Obtiene los resultados\n",
    "best_params = grid_search.best_params_\n",
    "best_score = grid_search.best_score_\n",
    "\n",
    "print(best_params)\n",
    "print(best_score)"
   ]
  },
  {
   "cell_type": "code",
   "execution_count": 65,
   "metadata": {},
   "outputs": [
    {
     "name": "stdout",
     "output_type": "stream",
     "text": [
      "Matriz de confusion:\n",
      "[[1588602       0]\n",
      " [   1248     805]]\n",
      "Mejores hiperparámetros: {'n_estimators': 30, 'max_depth': 35, 'class_weight': None}\n",
      "Mejor puntaje de la función de costo: 0.7737012987012988\n",
      "Puntaje de la función de costo en el conjunto de prueba: 56174226305.27996\n"
     ]
    }
   ],
   "source": [
    "# Modelo final con los mejores hiperparámetros encontrados\n",
    "rf_y_hat = grid_search.predict(X_test_escalado)\n",
    "test_score = profit_metric(Y_test, rf_y_hat)\n",
    "cm_fr = confusion_matrix(Y_test, rf_y_hat)\n",
    "\n",
    "print(\"Matriz de confusion:\")\n",
    "print(cm_fr)\n",
    "print(\"Mejores hiperparámetros:\", best_params)\n",
    "print(\"Mejor puntaje de la función de costo:\", best_score)\n",
    "print(\"Puntaje de la función de costo en el conjunto de prueba:\", test_score)"
   ]
  },
  {
   "cell_type": "code",
   "execution_count": 66,
   "metadata": {},
   "outputs": [
    {
     "name": "stdout",
     "output_type": "stream",
     "text": [
      "              precision    recall  f1-score   support\n",
      "\n",
      "           0       1.00      1.00      1.00   1588602\n",
      "           1       1.00      0.39      0.56      2053\n",
      "\n",
      "    accuracy                           1.00   1590655\n",
      "   macro avg       1.00      0.70      0.78   1590655\n",
      "weighted avg       1.00      1.00      1.00   1590655\n",
      "\n"
     ]
    }
   ],
   "source": [
    "print(classification_report(Y_test, rf_y_hat))"
   ]
  },
  {
   "attachments": {},
   "cell_type": "markdown",
   "metadata": {},
   "source": [
    "### RESULTADO\n",
    "\n",
    "Buscando los mejores parámetros con RandomizedSearchCV el modelo RandomForestClassifier logra los siguientes resultados:\n",
    "\n",
    "```python\n",
    "Matriz de confusion:\n",
    "[[1588602       0]\n",
    " [   1248     805]]\n",
    "Mejores hiperparámetros: {'n_estimators': 30, 'max_depth': 35, 'class_weight': None}\n",
    "Mejor puntaje de la función de costo: 0.7737012987012988\n",
    "Puntaje de la función de costo en el conjunto de prueba: 56174226305.27996\n",
    "```"
   ]
  },
  {
   "attachments": {},
   "cell_type": "markdown",
   "metadata": {},
   "source": [
    "## RandomForest (Sin Balanceo y Sin Escalar)"
   ]
  },
  {
   "cell_type": "code",
   "execution_count": 54,
   "metadata": {},
   "outputs": [
    {
     "data": {
      "text/html": [
       "<style>#sk-container-id-4 {color: black;background-color: white;}#sk-container-id-4 pre{padding: 0;}#sk-container-id-4 div.sk-toggleable {background-color: white;}#sk-container-id-4 label.sk-toggleable__label {cursor: pointer;display: block;width: 100%;margin-bottom: 0;padding: 0.3em;box-sizing: border-box;text-align: center;}#sk-container-id-4 label.sk-toggleable__label-arrow:before {content: \"▸\";float: left;margin-right: 0.25em;color: #696969;}#sk-container-id-4 label.sk-toggleable__label-arrow:hover:before {color: black;}#sk-container-id-4 div.sk-estimator:hover label.sk-toggleable__label-arrow:before {color: black;}#sk-container-id-4 div.sk-toggleable__content {max-height: 0;max-width: 0;overflow: hidden;text-align: left;background-color: #f0f8ff;}#sk-container-id-4 div.sk-toggleable__content pre {margin: 0.2em;color: black;border-radius: 0.25em;background-color: #f0f8ff;}#sk-container-id-4 input.sk-toggleable__control:checked~div.sk-toggleable__content {max-height: 200px;max-width: 100%;overflow: auto;}#sk-container-id-4 input.sk-toggleable__control:checked~label.sk-toggleable__label-arrow:before {content: \"▾\";}#sk-container-id-4 div.sk-estimator input.sk-toggleable__control:checked~label.sk-toggleable__label {background-color: #d4ebff;}#sk-container-id-4 div.sk-label input.sk-toggleable__control:checked~label.sk-toggleable__label {background-color: #d4ebff;}#sk-container-id-4 input.sk-hidden--visually {border: 0;clip: rect(1px 1px 1px 1px);clip: rect(1px, 1px, 1px, 1px);height: 1px;margin: -1px;overflow: hidden;padding: 0;position: absolute;width: 1px;}#sk-container-id-4 div.sk-estimator {font-family: monospace;background-color: #f0f8ff;border: 1px dotted black;border-radius: 0.25em;box-sizing: border-box;margin-bottom: 0.5em;}#sk-container-id-4 div.sk-estimator:hover {background-color: #d4ebff;}#sk-container-id-4 div.sk-parallel-item::after {content: \"\";width: 100%;border-bottom: 1px solid gray;flex-grow: 1;}#sk-container-id-4 div.sk-label:hover label.sk-toggleable__label {background-color: #d4ebff;}#sk-container-id-4 div.sk-serial::before {content: \"\";position: absolute;border-left: 1px solid gray;box-sizing: border-box;top: 0;bottom: 0;left: 50%;z-index: 0;}#sk-container-id-4 div.sk-serial {display: flex;flex-direction: column;align-items: center;background-color: white;padding-right: 0.2em;padding-left: 0.2em;position: relative;}#sk-container-id-4 div.sk-item {position: relative;z-index: 1;}#sk-container-id-4 div.sk-parallel {display: flex;align-items: stretch;justify-content: center;background-color: white;position: relative;}#sk-container-id-4 div.sk-item::before, #sk-container-id-4 div.sk-parallel-item::before {content: \"\";position: absolute;border-left: 1px solid gray;box-sizing: border-box;top: 0;bottom: 0;left: 50%;z-index: -1;}#sk-container-id-4 div.sk-parallel-item {display: flex;flex-direction: column;z-index: 1;position: relative;background-color: white;}#sk-container-id-4 div.sk-parallel-item:first-child::after {align-self: flex-end;width: 50%;}#sk-container-id-4 div.sk-parallel-item:last-child::after {align-self: flex-start;width: 50%;}#sk-container-id-4 div.sk-parallel-item:only-child::after {width: 0;}#sk-container-id-4 div.sk-dashed-wrapped {border: 1px dashed gray;margin: 0 0.4em 0.5em 0.4em;box-sizing: border-box;padding-bottom: 0.4em;background-color: white;}#sk-container-id-4 div.sk-label label {font-family: monospace;font-weight: bold;display: inline-block;line-height: 1.2em;}#sk-container-id-4 div.sk-label-container {text-align: center;}#sk-container-id-4 div.sk-container {/* jupyter's `normalize.less` sets `[hidden] { display: none; }` but bootstrap.min.css set `[hidden] { display: none !important; }` so we also need the `!important` here to be able to override the default hidden behavior on the sphinx rendered scikit-learn.org. See: https://github.com/scikit-learn/scikit-learn/issues/21755 */display: inline-block !important;position: relative;}#sk-container-id-4 div.sk-text-repr-fallback {display: none;}</style><div id=\"sk-container-id-4\" class=\"sk-top-container\"><div class=\"sk-text-repr-fallback\"><pre>RandomForestClassifier(max_depth=50, n_estimators=20, n_jobs=6, random_state=23)</pre><b>In a Jupyter environment, please rerun this cell to show the HTML representation or trust the notebook. <br />On GitHub, the HTML representation is unable to render, please try loading this page with nbviewer.org.</b></div><div class=\"sk-container\" hidden><div class=\"sk-item\"><div class=\"sk-estimator sk-toggleable\"><input class=\"sk-toggleable__control sk-hidden--visually\" id=\"sk-estimator-id-4\" type=\"checkbox\" checked><label for=\"sk-estimator-id-4\" class=\"sk-toggleable__label sk-toggleable__label-arrow\">RandomForestClassifier</label><div class=\"sk-toggleable__content\"><pre>RandomForestClassifier(max_depth=50, n_estimators=20, n_jobs=6, random_state=23)</pre></div></div></div></div></div>"
      ],
      "text/plain": [
       "RandomForestClassifier(max_depth=50, n_estimators=20, n_jobs=6, random_state=23)"
      ]
     },
     "execution_count": 54,
     "metadata": {},
     "output_type": "execute_result"
    }
   ],
   "source": [
    "rf = RandomForestClassifier(n_estimators = 20, max_depth=50, random_state = 23, n_jobs=6)\n",
    "rf.fit(X_train, Y_train)\n"
   ]
  },
  {
   "cell_type": "code",
   "execution_count": 55,
   "metadata": {},
   "outputs": [
    {
     "name": "stdout",
     "output_type": "stream",
     "text": [
      "Matriz de confusion:\n",
      "[[1588572      30]\n",
      " [    443    1610]]\n",
      "Puntaje de la función de costo en el conjunto de prueba: 56564197716.97\n"
     ]
    }
   ],
   "source": [
    "# Modelo final con los mejores hiperparámetros encontrados\n",
    "rf_y_hat = rf.predict(X_test)\n",
    "test_score = profit_metric(Y_test, rf_y_hat)\n",
    "cm_fr = confusion_matrix(Y_test, rf_y_hat)\n",
    "\n",
    "print(\"Matriz de confusion:\")\n",
    "print(cm_fr)\n",
    "print(\"Puntaje de la función de costo en el conjunto de prueba:\", test_score)"
   ]
  },
  {
   "attachments": {},
   "cell_type": "markdown",
   "metadata": {},
   "source": [
    "### RESULTADO\n",
    "\n",
    "Entrenando el modelo RandomForestClassifier con el dataset sin escalar y sin balancear se logran los siguientes resultados:\n",
    "\n",
    "```python\n",
    "(SIN CLASS_WEIGHT = 'BALANCED')\n",
    "\n",
    "Matriz de confusion:\n",
    "[[1588572      30]\n",
    " [    440    1613]]\n",
    "Puntaje de la función de costo en el conjunto de prueba: 56563878298.588005\n",
    "\n",
    "(CON CLASS_WEIGHT = 'BALANCED')\n",
    "\n",
    "Matriz de confusion:\n",
    "[[1588571      31]\n",
    " [    455    1598]]\n",
    "Puntaje de la función de costo en el conjunto de prueba: 56558357684.69201\n",
    "```"
   ]
  },
  {
   "cell_type": "code",
   "execution_count": 75,
   "metadata": {},
   "outputs": [
    {
     "name": "stdout",
     "output_type": "stream",
     "text": [
      "Variable: oldbalanceOrg        Importance: 0.26\n",
      "Variable: newbalanceDest       Importance: 0.26\n",
      "Variable: amount               Importance: 0.17\n",
      "Variable: step                 Importance: 0.1\n",
      "Variable: oldbalanceDest       Importance: 0.07\n",
      "Variable: type_TRANSFER        Importance: 0.06\n",
      "Variable: newbalanceOrig       Importance: 0.03\n",
      "Variable: type_CASH_OUT        Importance: 0.02\n",
      "Variable: type_CASH_IN         Importance: 0.01\n",
      "Variable: nameDest_type_M      Importance: 0.01\n",
      "Variable: type_DEBIT           Importance: 0.0\n",
      "Variable: type_PAYMENT         Importance: 0.0\n",
      "Variable: nameOrig_type_C      Importance: 0.0\n",
      "Variable: nameDest_type_C      Importance: 0.0\n"
     ]
    }
   ],
   "source": [
    "#ANALISIS DE IMPORTANCIA DE CADA COLUMNA SEGUN EL RANDOM FOREST\n",
    "importances = list(rf.feature_importances_)# List of tuples with variable and importance\n",
    "feature_importances = [(feature, round(importance, 2)) for feature, importance in zip(columns, importances)]# Sort the feature importances by most important first\n",
    "feature_importances = sorted(feature_importances, key = lambda x: x[1], reverse = True)# Print out the feature and importances \n",
    "[print('Variable: {:20} Importance: {}'.format(*pair)) for pair in feature_importances];"
   ]
  },
  {
   "attachments": {},
   "cell_type": "markdown",
   "metadata": {},
   "source": [
    "# BALANCEO DEL DATASET"
   ]
  },
  {
   "cell_type": "code",
   "execution_count": 87,
   "metadata": {},
   "outputs": [
    {
     "name": "stdout",
     "output_type": "stream",
     "text": [
      "0    4765805\n",
      "1       6160\n",
      "Name: isFraud, dtype: int64\n",
      "0    99.870913\n",
      "1     0.129087\n",
      "Name: isFraud, dtype: float64\n"
     ]
    }
   ],
   "source": [
    "#Reviso la proporción de valores positivos y negativos antes de balancear\n",
    "counts = Y_train.value_counts()\n",
    "print(counts)\n",
    "percentages = counts / counts.sum() * 100\n",
    "print(percentages)"
   ]
  },
  {
   "cell_type": "code",
   "execution_count": 88,
   "metadata": {},
   "outputs": [],
   "source": [
    "# X_train_balanced = X_train.copy()\n",
    "# Y_train_balanced = Y_train.copy()"
   ]
  },
  {
   "cell_type": "code",
   "execution_count": 103,
   "metadata": {},
   "outputs": [],
   "source": [
    "#BALANCEO DE DATASET USANDO OVERSAMPLING\n",
    "oversample = SMOTE(sampling_strategy=0.005, random_state=43)\n",
    "X_train_balanced, Y_train_balanced = oversample.fit_resample(X_train, Y_train)"
   ]
  },
  {
   "cell_type": "code",
   "execution_count": 90,
   "metadata": {},
   "outputs": [],
   "source": [
    "# #BALANCEO DE DATASET USANDO UNDERSAMPLING CON ADASYN\n",
    "# undersample = ADASYN(sampling_strategy=0.04)\n",
    "# X_train_balanced, Y_train_balanced = undersample.fit_resample(X_train, Y_train)"
   ]
  },
  {
   "cell_type": "code",
   "execution_count": 101,
   "metadata": {},
   "outputs": [],
   "source": [
    "# #BALANCEO DE DATASET USANDO UNDERSAMPLING CON BorderlineSMOTE\n",
    "# undersample = BorderlineSMOTE(sampling_strategy=0.002)\n",
    "# X_train_balanced, Y_train_balanced = undersample.fit_resample(X_train, Y_train)"
   ]
  },
  {
   "cell_type": "code",
   "execution_count": 104,
   "metadata": {},
   "outputs": [
    {
     "name": "stdout",
     "output_type": "stream",
     "text": [
      "0    4765805\n",
      "1      23829\n",
      "Name: isFraud, dtype: int64\n",
      "0    99.502488\n",
      "1     0.497512\n",
      "Name: isFraud, dtype: float64\n"
     ]
    }
   ],
   "source": [
    "#Reviso la proporción de valores positivos y negativos despues del oversampling\n",
    "counts = Y_train_balanced.value_counts()\n",
    "print(counts)\n",
    "percentages = counts / counts.sum() * 100\n",
    "print(percentages)"
   ]
  },
  {
   "cell_type": "code",
   "execution_count": 105,
   "metadata": {},
   "outputs": [],
   "source": [
    "#BALANCEO DEL DATASET USANDO UNDERSAMPLING\n",
    "undersample = RandomUnderSampler(sampling_strategy=0.005, random_state=43)\n",
    "X_train_balanced, Y_train_balanced = undersample.fit_resample(X_train_balanced, Y_train_balanced) "
   ]
  },
  {
   "cell_type": "code",
   "execution_count": null,
   "metadata": {},
   "outputs": [],
   "source": [
    "# #BALANCEO DEL DATASET USANDO UNDERSAMPLING CON NearMiss (17min)\n",
    "# undersample = NearMiss(version=2, n_neighbors=2, sampling_strategy=0.4)\n",
    "# X_train_balanced, Y_train_balanced = undersample.fit_resample(X_train_balanced, Y_train_balanced) "
   ]
  },
  {
   "cell_type": "code",
   "execution_count": null,
   "metadata": {},
   "outputs": [],
   "source": [
    "#BALANCEO DEL DATASET USANDO UNDERSAMPLING CON CNN (NO PROBADO, NUNCA TERMINA DE CORRER)\n",
    "# undersample = CondensedNearestNeighbour(n_neighbors=1)\n",
    "# X_train_balanced, Y_train_balanced = undersample.fit_resample(X_train_balanced, Y_train_balanced)"
   ]
  },
  {
   "cell_type": "code",
   "execution_count": 106,
   "metadata": {},
   "outputs": [
    {
     "name": "stdout",
     "output_type": "stream",
     "text": [
      "0    4765800\n",
      "1      23829\n",
      "Name: isFraud, dtype: int64\n",
      "0    99.502488\n",
      "1     0.497512\n",
      "Name: isFraud, dtype: float64\n"
     ]
    }
   ],
   "source": [
    "#Reviso la proporción de valores positivos y negativos despues del undersampling\n",
    "counts = Y_train_balanced.value_counts()\n",
    "print(counts)\n",
    "percentages = counts / counts.sum() * 100\n",
    "print(percentages)"
   ]
  },
  {
   "cell_type": "code",
   "execution_count": 107,
   "metadata": {},
   "outputs": [],
   "source": [
    "#ESTANDARIZACION\n",
    "X_train_balanced_escalado = scaler.fit_transform(X_train_balanced)"
   ]
  },
  {
   "attachments": {},
   "cell_type": "markdown",
   "metadata": {},
   "source": [
    "# ENTRENAMIENTOS DE MODELOS CON BALANCEO"
   ]
  },
  {
   "attachments": {},
   "cell_type": "markdown",
   "metadata": {},
   "source": [
    "## LogisticRegressionCV (Con Balance y Estandarización)"
   ]
  },
  {
   "cell_type": "code",
   "execution_count": 108,
   "metadata": {},
   "outputs": [
    {
     "data": {
      "text/html": [
       "<style>#sk-container-id-12 {color: black;background-color: white;}#sk-container-id-12 pre{padding: 0;}#sk-container-id-12 div.sk-toggleable {background-color: white;}#sk-container-id-12 label.sk-toggleable__label {cursor: pointer;display: block;width: 100%;margin-bottom: 0;padding: 0.3em;box-sizing: border-box;text-align: center;}#sk-container-id-12 label.sk-toggleable__label-arrow:before {content: \"▸\";float: left;margin-right: 0.25em;color: #696969;}#sk-container-id-12 label.sk-toggleable__label-arrow:hover:before {color: black;}#sk-container-id-12 div.sk-estimator:hover label.sk-toggleable__label-arrow:before {color: black;}#sk-container-id-12 div.sk-toggleable__content {max-height: 0;max-width: 0;overflow: hidden;text-align: left;background-color: #f0f8ff;}#sk-container-id-12 div.sk-toggleable__content pre {margin: 0.2em;color: black;border-radius: 0.25em;background-color: #f0f8ff;}#sk-container-id-12 input.sk-toggleable__control:checked~div.sk-toggleable__content {max-height: 200px;max-width: 100%;overflow: auto;}#sk-container-id-12 input.sk-toggleable__control:checked~label.sk-toggleable__label-arrow:before {content: \"▾\";}#sk-container-id-12 div.sk-estimator input.sk-toggleable__control:checked~label.sk-toggleable__label {background-color: #d4ebff;}#sk-container-id-12 div.sk-label input.sk-toggleable__control:checked~label.sk-toggleable__label {background-color: #d4ebff;}#sk-container-id-12 input.sk-hidden--visually {border: 0;clip: rect(1px 1px 1px 1px);clip: rect(1px, 1px, 1px, 1px);height: 1px;margin: -1px;overflow: hidden;padding: 0;position: absolute;width: 1px;}#sk-container-id-12 div.sk-estimator {font-family: monospace;background-color: #f0f8ff;border: 1px dotted black;border-radius: 0.25em;box-sizing: border-box;margin-bottom: 0.5em;}#sk-container-id-12 div.sk-estimator:hover {background-color: #d4ebff;}#sk-container-id-12 div.sk-parallel-item::after {content: \"\";width: 100%;border-bottom: 1px solid gray;flex-grow: 1;}#sk-container-id-12 div.sk-label:hover label.sk-toggleable__label {background-color: #d4ebff;}#sk-container-id-12 div.sk-serial::before {content: \"\";position: absolute;border-left: 1px solid gray;box-sizing: border-box;top: 0;bottom: 0;left: 50%;z-index: 0;}#sk-container-id-12 div.sk-serial {display: flex;flex-direction: column;align-items: center;background-color: white;padding-right: 0.2em;padding-left: 0.2em;position: relative;}#sk-container-id-12 div.sk-item {position: relative;z-index: 1;}#sk-container-id-12 div.sk-parallel {display: flex;align-items: stretch;justify-content: center;background-color: white;position: relative;}#sk-container-id-12 div.sk-item::before, #sk-container-id-12 div.sk-parallel-item::before {content: \"\";position: absolute;border-left: 1px solid gray;box-sizing: border-box;top: 0;bottom: 0;left: 50%;z-index: -1;}#sk-container-id-12 div.sk-parallel-item {display: flex;flex-direction: column;z-index: 1;position: relative;background-color: white;}#sk-container-id-12 div.sk-parallel-item:first-child::after {align-self: flex-end;width: 50%;}#sk-container-id-12 div.sk-parallel-item:last-child::after {align-self: flex-start;width: 50%;}#sk-container-id-12 div.sk-parallel-item:only-child::after {width: 0;}#sk-container-id-12 div.sk-dashed-wrapped {border: 1px dashed gray;margin: 0 0.4em 0.5em 0.4em;box-sizing: border-box;padding-bottom: 0.4em;background-color: white;}#sk-container-id-12 div.sk-label label {font-family: monospace;font-weight: bold;display: inline-block;line-height: 1.2em;}#sk-container-id-12 div.sk-label-container {text-align: center;}#sk-container-id-12 div.sk-container {/* jupyter's `normalize.less` sets `[hidden] { display: none; }` but bootstrap.min.css set `[hidden] { display: none !important; }` so we also need the `!important` here to be able to override the default hidden behavior on the sphinx rendered scikit-learn.org. See: https://github.com/scikit-learn/scikit-learn/issues/21755 */display: inline-block !important;position: relative;}#sk-container-id-12 div.sk-text-repr-fallback {display: none;}</style><div id=\"sk-container-id-12\" class=\"sk-top-container\"><div class=\"sk-text-repr-fallback\"><pre>LogisticRegressionCV(cv=5, max_iter=2000, n_jobs=8, random_state=43,\n",
       "                     scoring=&#x27;recall&#x27;)</pre><b>In a Jupyter environment, please rerun this cell to show the HTML representation or trust the notebook. <br />On GitHub, the HTML representation is unable to render, please try loading this page with nbviewer.org.</b></div><div class=\"sk-container\" hidden><div class=\"sk-item\"><div class=\"sk-estimator sk-toggleable\"><input class=\"sk-toggleable__control sk-hidden--visually\" id=\"sk-estimator-id-12\" type=\"checkbox\" checked><label for=\"sk-estimator-id-12\" class=\"sk-toggleable__label sk-toggleable__label-arrow\">LogisticRegressionCV</label><div class=\"sk-toggleable__content\"><pre>LogisticRegressionCV(cv=5, max_iter=2000, n_jobs=8, random_state=43,\n",
       "                     scoring=&#x27;recall&#x27;)</pre></div></div></div></div></div>"
      ],
      "text/plain": [
       "LogisticRegressionCV(cv=5, max_iter=2000, n_jobs=8, random_state=43,\n",
       "                     scoring='recall')"
      ]
     },
     "execution_count": 108,
     "metadata": {},
     "output_type": "execute_result"
    }
   ],
   "source": [
    "logr = LogisticRegressionCV(cv=5, max_iter=2000, n_jobs=8, scoring='recall', random_state=43)\n",
    "logr.fit(X_train_balanced_escalado,Y_train_balanced)"
   ]
  },
  {
   "cell_type": "code",
   "execution_count": 110,
   "metadata": {},
   "outputs": [
    {
     "name": "stdout",
     "output_type": "stream",
     "text": [
      "Matriz de confusion:\n",
      "[[1588077     525]\n",
      " [    794    1259]]\n",
      "Puntaje de la función de costo en el conjunto de prueba: 56436041481.684006\n"
     ]
    }
   ],
   "source": [
    "# Evalúa el rendimiento del modelo final en el conjunto de prueba\n",
    "logr_y_hat = logr.predict(X_test_escalado)\n",
    "test_score = profit_metric(Y_test, logr_y_hat)\n",
    "cm_lr = confusion_matrix(Y_test, logr_y_hat)\n",
    "\n",
    "print(\"Matriz de confusion:\")\n",
    "print(cm_lr)\n",
    "print(\"Puntaje de la función de costo en el conjunto de prueba:\", test_score)"
   ]
  },
  {
   "cell_type": "code",
   "execution_count": 106,
   "metadata": {},
   "outputs": [
    {
     "name": "stdout",
     "output_type": "stream",
     "text": [
      "              precision    recall  f1-score   support\n",
      "\n",
      "           0       1.00      1.00      1.00   1588602\n",
      "           1       0.87      0.55      0.67      2053\n",
      "\n",
      "    accuracy                           1.00   1590655\n",
      "   macro avg       0.93      0.77      0.83   1590655\n",
      "weighted avg       1.00      1.00      1.00   1590655\n",
      "\n"
     ]
    }
   ],
   "source": [
    "print(classification_report(Y_test, logr_y_hat))"
   ]
  },
  {
   "attachments": {},
   "cell_type": "markdown",
   "metadata": {},
   "source": [
    "### RESULTADO DEL BALANCEO"
   ]
  },
  {
   "attachments": {},
   "cell_type": "markdown",
   "metadata": {},
   "source": [
    "Entrenando el modelo LogisticRegressionCV con el dataset balanceado se obtienen resultados diversos. La unica vez que mejoró el resultado fue con la configuracion siguiente:\n",
    "\n",
    "OVERSAMPLING:\n",
    "SMOTE(sampling_strategy=0.005)\n",
    "\n",
    "UNDERSAMPLING:\n",
    "RandomUnderSampler(sampling_strategy=0.01)\n",
    "\n",
    "Proporcion de las clases: 99/1\n",
    "\n",
    "Estandarizacion: z = (x - u) / s\n",
    "\n",
    "Hiperparametros del modelo: cv=5, max_iter=2000, n_jobs=8, scoring='recall'\n",
    "\n",
    "Matriz de Confusion:\n",
    "[[1588229\t373]\n",
    " [799\t1254]\n",
    "\n",
    "Puntaje de la función de costo en el conjunto de prueba: 56461924819.93 \n",
    "\n",
    "\n"
   ]
  },
  {
   "attachments": {},
   "cell_type": "markdown",
   "metadata": {},
   "source": [
    "# AUTO ML"
   ]
  },
  {
   "attachments": {},
   "cell_type": "markdown",
   "metadata": {},
   "source": [
    "Se probó Auto ML en Google Colab pero resultó demasiado lento para trabajar con tantos registros. Se pudo hacer algunas comparaciones pero no se pudo llegar a un mejor resultado que el que se obtuvo realizando todos los pasos manualmente y probando modelos variando sus hiperparametros. \n",
    "Se envía en la entrega una planilla de cálculos con las comparaciones de los resultados de los entrenamientos de todos los modelos.\n"
   ]
  },
  {
   "attachments": {},
   "cell_type": "markdown",
   "metadata": {},
   "source": [
    "# CONCLUSIÓN FINAL Y MEJOR RESULTADO"
   ]
  },
  {
   "attachments": {},
   "cell_type": "markdown",
   "metadata": {},
   "source": [
    "Habiendo realizado una analisis exaustivo de varios modelos, se logró el mejor resultado con un RandomForestClassifier, logrando la siguiente matriz de confusión:\n",
    "\n",
    "- [[1588572\t30]\n",
    "-   [440\t1613]]\n",
    "- Puntaje de la función de costo en el conjunto de prueba: 56,563,878,298.59 \n",
    "\n",
    "La mejor preparacion de los datos fue la siguiente:\n",
    "- Escalado: Sin escalar\n",
    "- Balanceo: Ninguno\n",
    "- Proporcion de clases: 99.87/0.12\n",
    "- Proporcion de Train y Test: 75%/25%\n",
    "\n",
    "Los hiperparametros del modelo fueron los siguientes:\n",
    "- n_estimators = 20\n",
    "- max_depth=35\n",
    "\n",
    "El balanceo por Oversampling y UnderSampling no produjo una mejora en el modelo de RandomForest, pero si mejoro muy poco el modelo de LogisticRegression. Se puede observar en la planilla de calculo de las pruebas realizadas.\n"
   ]
  }
 ],
 "metadata": {
  "kernelspec": {
   "display_name": ".venv",
   "language": "python",
   "name": "python3"
  },
  "language_info": {
   "codemirror_mode": {
    "name": "ipython",
    "version": 3
   },
   "file_extension": ".py",
   "mimetype": "text/x-python",
   "name": "python",
   "nbconvert_exporter": "python",
   "pygments_lexer": "ipython3",
   "version": "3.10.10"
  },
  "orig_nbformat": 4
 },
 "nbformat": 4,
 "nbformat_minor": 2
}
